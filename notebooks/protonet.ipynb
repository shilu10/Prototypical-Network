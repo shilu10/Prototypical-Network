{
  "nbformat": 4,
  "nbformat_minor": 0,
  "metadata": {
    "colab": {
      "provenance": [],
      "gpuType": "T4"
    },
    "kernelspec": {
      "name": "python3",
      "display_name": "Python 3"
    },
    "language_info": {
      "name": "python"
    },
    "accelerator": "GPU"
  },
  "cells": [
    {
      "cell_type": "code",
      "execution_count": null,
      "metadata": {
        "id": "Abliekm8kqRE"
      },
      "outputs": [],
      "source": []
    },
    {
      "cell_type": "code",
      "source": [
        "\"\"\"Dataloading for Omniglot.\"\"\"\n",
        "import os\n",
        "import glob\n",
        "\n",
        "import google_drive_downloader as gdd\n",
        "import imageio\n",
        "import numpy as np\n",
        "import torch\n",
        "from torch.utils.data import dataset, sampler, dataloader\n",
        "\n",
        "NUM_TRAIN_CLASSES = 1100\n",
        "NUM_VAL_CLASSES = 100\n",
        "NUM_TEST_CLASSES = 423\n",
        "NUM_SAMPLES_PER_CLASS = 20\n",
        "\n",
        "\n",
        "def load_image(file_path):\n",
        "    \"\"\"Loads and transforms an Omniglot image.\n",
        "\n",
        "    Args:\n",
        "        file_path (str): file path of image\n",
        "\n",
        "    Returns:\n",
        "        a Tensor containing image data\n",
        "            shape (1, 28, 28)\n",
        "    \"\"\"\n",
        "    x = imageio.imread(file_path)\n",
        "    x = torch.tensor(x, dtype=torch.float32).reshape([1, 28, 28]) / x.max()\n",
        "    return 1 - x\n",
        "\n",
        "\n",
        "class OmniglotDataset(dataset.Dataset):\n",
        "    \"\"\"Omniglot dataset for meta-learning.\n",
        "\n",
        "    Each element of the dataset is a task. A task is specified with a key,\n",
        "    which is a tuple of class indices (no particular order). The corresponding\n",
        "    value is the instantiated task, which consists of sampled (image, label)\n",
        "    pairs.\n",
        "    \"\"\"\n",
        "    _BASE_PATH = './omniglot_resized'\n",
        "    if os.path.isdir('./submission'):\n",
        "        _BASE_PATH = './submission/omniglot_resized'\n",
        "    _GDD_FILE_ID = '1iaSFXIYC3AB8q9K_M-oVMa4pmB7yKMtI'\n",
        "\n",
        "    def __init__(self, num_support, num_query):\n",
        "        \"\"\"Inits OmniglotDataset.\n",
        "\n",
        "        Args:\n",
        "            num_support (int): number of support examples per class\n",
        "            num_query (int): number of query examples per class\n",
        "        \"\"\"\n",
        "        super().__init__()\n",
        "\n",
        "\n",
        "        # if necessary, download the Omniglot dataset\n",
        "        if not os.path.isdir(self._BASE_PATH):\n",
        "            gdd.GoogleDriveDownloader.download_file_from_google_drive(\n",
        "                file_id=self._GDD_FILE_ID,\n",
        "                dest_path=f'{self._BASE_PATH}.zip',\n",
        "                unzip=True\n",
        "            )\n",
        "\n",
        "        # get all character folders\n",
        "        self._character_folders = glob.glob(\n",
        "            os.path.join(self._BASE_PATH, '*/*/'))\n",
        "        assert len(self._character_folders) == (\n",
        "            NUM_TRAIN_CLASSES + NUM_VAL_CLASSES + NUM_TEST_CLASSES\n",
        "        )\n",
        "\n",
        "        # shuffle characters\n",
        "        np.random.default_rng(0).shuffle(self._character_folders)\n",
        "\n",
        "        # check problem arguments\n",
        "        assert num_support + num_query <= NUM_SAMPLES_PER_CLASS\n",
        "        self._num_support = num_support\n",
        "        self._num_query = num_query\n",
        "\n",
        "    def __getitem__(self, class_idxs):\n",
        "        \"\"\"Constructs a task.\n",
        "\n",
        "        Data for each class is sampled uniformly at random without replacement.\n",
        "\n",
        "        Args:\n",
        "            class_idxs (tuple[int]): class indices that comprise the task\n",
        "\n",
        "        Returns:\n",
        "            images_support (Tensor): task support images\n",
        "                shape (num_way * num_support, channels, height, width)\n",
        "            labels_support (Tensor): task support labels\n",
        "                shape (num_way * num_support,)\n",
        "            images_query (Tensor): task query images\n",
        "                shape (num_way * num_query, channels, height, width)\n",
        "            labels_query (Tensor): task query labels\n",
        "                shape (num_way * num_query,)\n",
        "        \"\"\"\n",
        "        images_support, images_query = [], []\n",
        "        labels_support, labels_query = [], []\n",
        "\n",
        "        for label, class_idx in enumerate(class_idxs):\n",
        "            # get a class's examples and sample from them\n",
        "            all_file_paths = glob.glob(\n",
        "                os.path.join(self._character_folders[class_idx], '*.png')\n",
        "            )\n",
        "            sampled_file_paths = np.random.default_rng().choice(\n",
        "                all_file_paths,\n",
        "                size=self._num_support + self._num_query,\n",
        "                replace=False\n",
        "            )\n",
        "            images = [load_image(file_path) for file_path in sampled_file_paths]\n",
        "\n",
        "            # split sampled examples into support and query\n",
        "            images_support.extend(images[:self._num_support])\n",
        "            images_query.extend(images[self._num_support:])\n",
        "            labels_support.extend([label] * self._num_support)\n",
        "            labels_query.extend([label] * self._num_query)\n",
        "\n",
        "        # aggregate into tensors\n",
        "        images_support = torch.stack(images_support)  # shape (N*S, C, H, W)\n",
        "        labels_support = torch.tensor(labels_support)  # shape (N*S)\n",
        "        images_query = torch.stack(images_query)\n",
        "        labels_query = torch.tensor(labels_query)\n",
        "\n",
        "        return images_support, labels_support, images_query, labels_query\n",
        "\n",
        "\n",
        "class OmniglotSampler(sampler.Sampler):\n",
        "    \"\"\"Samples task specification keys for an OmniglotDataset.\"\"\"\n",
        "\n",
        "    def __init__(self, split_idxs, num_way, num_tasks):\n",
        "        \"\"\"Inits OmniglotSampler.\n",
        "\n",
        "        Args:\n",
        "            split_idxs (range): indices that comprise the\n",
        "                training/validation/test split\n",
        "            num_way (int): number of classes per task\n",
        "            num_tasks (int): number of tasks to sample\n",
        "        \"\"\"\n",
        "        super().__init__(None)\n",
        "        self._split_idxs = split_idxs\n",
        "        self._num_way = num_way\n",
        "        self._num_tasks = num_tasks\n",
        "\n",
        "    def __iter__(self):\n",
        "        return (\n",
        "            np.random.default_rng().choice(\n",
        "                self._split_idxs,\n",
        "                size=self._num_way,\n",
        "                replace=False\n",
        "            ) for _ in range(self._num_tasks)\n",
        "        )\n",
        "\n",
        "    def __len__(self):\n",
        "        return self._num_tasks\n",
        "\n",
        "\n",
        "def identity(x):\n",
        "    return x\n",
        "\n",
        "\n",
        "def get_omniglot_dataloader(\n",
        "        split,\n",
        "        batch_size,\n",
        "        num_way,\n",
        "        num_support,\n",
        "        num_query,\n",
        "        num_tasks_per_epoch,\n",
        "        num_workers=2,\n",
        "):\n",
        "    \"\"\"Returns a dataloader.DataLoader for Omniglot.\n",
        "\n",
        "    Args:\n",
        "        split (str): one of 'train', 'val', 'test'\n",
        "        batch_size (int): number of tasks per batch\n",
        "        num_way (int): number of classes per task\n",
        "        num_support (int): number of support examples per class\n",
        "        num_query (int): number of query examples per class\n",
        "        num_tasks_per_epoch (int): number of tasks before DataLoader is\n",
        "            exhausted\n",
        "    \"\"\"\n",
        "\n",
        "    if split == 'train':\n",
        "        split_idxs = range(NUM_TRAIN_CLASSES)\n",
        "    elif split == 'val':\n",
        "        split_idxs = range(\n",
        "            NUM_TRAIN_CLASSES,\n",
        "            NUM_TRAIN_CLASSES + NUM_VAL_CLASSES\n",
        "        )\n",
        "    elif split == 'test':\n",
        "        split_idxs = range(\n",
        "            NUM_TRAIN_CLASSES + NUM_VAL_CLASSES,\n",
        "            NUM_TRAIN_CLASSES + NUM_VAL_CLASSES + NUM_TEST_CLASSES\n",
        "        )\n",
        "    else:\n",
        "        raise ValueError\n",
        "\n",
        "    return dataloader.DataLoader(\n",
        "        dataset=OmniglotDataset(num_support, num_query),\n",
        "        batch_size=batch_size,\n",
        "        sampler=OmniglotSampler(split_idxs, num_way, num_tasks_per_epoch),\n",
        "        num_workers=num_workers,\n",
        "        collate_fn=identity,\n",
        "        pin_memory=torch.cuda.is_available(),\n",
        "        drop_last=True\n",
        "    )\n"
      ],
      "metadata": {
        "id": "QE3ebJoVlBKE"
      },
      "execution_count": 15,
      "outputs": []
    },
    {
      "cell_type": "code",
      "source": [
        "train_loader = get_omniglot_dataloader('train', 10, 5, 5, 10, 100)"
      ],
      "metadata": {
        "id": "OY9aqsUElBEh",
        "colab": {
          "base_uri": "https://localhost:8080/"
        },
        "outputId": "baca28e4-a7a3-4e2c-dad1-4de82ee41958"
      },
      "execution_count": 7,
      "outputs": [
        {
          "output_type": "stream",
          "name": "stdout",
          "text": [
            "Downloading 1iaSFXIYC3AB8q9K_M-oVMa4pmB7yKMtI into ./omniglot_resized.zip... Done.\n",
            "Unzipping...Done.\n"
          ]
        }
      ]
    },
    {
      "cell_type": "code",
      "source": [
        "network = ProtoNetNetwork(\"cpu\")"
      ],
      "metadata": {
        "id": "U810JmeRu9q5"
      },
      "execution_count": 8,
      "outputs": []
    },
    {
      "cell_type": "code",
      "source": [
        "for batch in train_loader:\n",
        "  for task in batch:\n",
        "    images_support, labels_support, images_query, labels_query = task\n",
        "\n",
        "    supp_feats = network(images_support)\n",
        "\n",
        "    classes = torch.unique(labels_support, sorted=True)\n",
        "    prototypes = []\n",
        "    for c in classes:\n",
        "        idxes = (labels_support == c).nonzero()\n",
        "        class_feats = supp_feats[idxes]\n",
        "        prototype = torch.mean(class_feats, dim=0)\n",
        "        prototypes.append(prototype)\n",
        "\n",
        "    prototypes = torch.cat(prototypes)  # (num_classes, feature_dim)\n",
        "\n",
        "    query_feats = network(images_query)\n",
        "\n",
        "    print(query_feats.shape)\n",
        "\n",
        "    query_feats = torch.stack([query_feats] * prototypes.size(0), dim=1)\n",
        "    print(query_feats.shape)\n",
        "\n",
        "    exp_means = prototypes.expand(*query_feats.shape)\n",
        "\n",
        "    print(exp_means.shape)\n",
        "\n",
        "    break\n",
        "\n",
        "  break"
      ],
      "metadata": {
        "id": "86go9R3du9kp"
      },
      "execution_count": null,
      "outputs": []
    },
    {
      "cell_type": "code",
      "source": [
        "means.shape"
      ],
      "metadata": {
        "colab": {
          "base_uri": "https://localhost:8080/",
          "height": 175
        },
        "id": "5tNZUUdCpzc0",
        "outputId": "1d8e9479-34ea-43fc-d584-866faf049f1b"
      },
      "execution_count": 10,
      "outputs": [
        {
          "output_type": "error",
          "ename": "NameError",
          "evalue": "ignored",
          "traceback": [
            "\u001b[0;31m---------------------------------------------------------------------------\u001b[0m",
            "\u001b[0;31mNameError\u001b[0m                                 Traceback (most recent call last)",
            "\u001b[0;32m<ipython-input-10-8e954c26900f>\u001b[0m in \u001b[0;36m<cell line: 1>\u001b[0;34m()\u001b[0m\n\u001b[0;32m----> 1\u001b[0;31m \u001b[0mmeans\u001b[0m\u001b[0;34m.\u001b[0m\u001b[0mshape\u001b[0m\u001b[0;34m\u001b[0m\u001b[0;34m\u001b[0m\u001b[0m\n\u001b[0m",
            "\u001b[0;31mNameError\u001b[0m: name 'means' is not defined"
          ]
        }
      ]
    },
    {
      "cell_type": "code",
      "source": [],
      "metadata": {
        "id": "mVGug6k7pzTw"
      },
      "execution_count": null,
      "outputs": []
    },
    {
      "cell_type": "code",
      "source": [],
      "metadata": {
        "id": "3tdJQqZipzOT"
      },
      "execution_count": null,
      "outputs": []
    },
    {
      "cell_type": "code",
      "source": [],
      "metadata": {
        "id": "obN2wGoju9fj"
      },
      "execution_count": null,
      "outputs": []
    },
    {
      "cell_type": "code",
      "source": [
        "\"\"\"Utilities for scoring the model.\"\"\"\n",
        "import torch\n",
        "\n",
        "\n",
        "def score(logits, labels):\n",
        "    \"\"\"Returns the mean accuracy of a model's predictions on a set of examples.\n",
        "\n",
        "    Args:\n",
        "        logits (torch.Tensor): model predicted logits\n",
        "            shape (examples, classes)\n",
        "        labels (torch.Tensor): classification labels from 0 to num_classes - 1\n",
        "            shape (examples,)\n",
        "    \"\"\"\n",
        "\n",
        "    assert logits.dim() == 2\n",
        "    assert labels.dim() == 1\n",
        "    assert logits.shape[0] == labels.shape[0]\n",
        "    y = torch.argmax(logits, dim=-1) == labels\n",
        "    y = y.type(torch.float)\n",
        "    return torch.mean(y).item()"
      ],
      "metadata": {
        "id": "GaxrIO6Pu9cF"
      },
      "execution_count": 16,
      "outputs": []
    },
    {
      "cell_type": "code",
      "source": [
        "\"\"\"Implementation of prototypical networks for Omniglot.\"\"\"\n",
        "import sys\n",
        "sys.path.append('..')\n",
        "import argparse\n",
        "import os\n",
        "\n",
        "import numpy as np\n",
        "import torch\n",
        "\n",
        "import torch.multiprocessing\n",
        "torch.multiprocessing.set_sharing_strategy('file_system')\n",
        "\n",
        "from torch import nn\n",
        "import torch.nn.functional as F  # pylint: disable=unused-import\n",
        "from google_drive_downloader import GoogleDriveDownloader as gdd\n",
        "from torch.utils import tensorboard\n",
        "\n",
        "NUM_INPUT_CHANNELS = 1\n",
        "NUM_HIDDEN_CHANNELS = 64\n",
        "KERNEL_SIZE = 3\n",
        "NUM_CONV_LAYERS = 4\n",
        "SUMMARY_INTERVAL = 10\n",
        "SAVE_INTERVAL = 100\n",
        "PRINT_INTERVAL = 10\n",
        "VAL_INTERVAL = PRINT_INTERVAL * 5\n",
        "NUM_TEST_TASKS = 600\n",
        "\n",
        "class ProtoNetNetwork(nn.Module):\n",
        "    \"\"\"Container for ProtoNet weights and image-to-latent computation.\"\"\"\n",
        "\n",
        "    def __init__(self, device):\n",
        "        \"\"\"Inits ProtoNetNetwork.\n",
        "\n",
        "        The network consists of four convolutional blocks, each comprising a\n",
        "        convolution layer, a batch normalization layer, ReLU activation, and 2x2\n",
        "        max pooling for downsampling. There is an additional flattening\n",
        "        operation at the end.\n",
        "\n",
        "        Note that unlike conventional use, batch normalization is always done\n",
        "        with batch statistics, regardless of whether we are training or\n",
        "        evaluating. This technically makes meta-learning transductive, as\n",
        "        opposed to inductive.\n",
        "\n",
        "        Args:\n",
        "            device (str): device to be used\n",
        "        \"\"\"\n",
        "        super().__init__()\n",
        "        layers = []\n",
        "        in_channels = NUM_INPUT_CHANNELS\n",
        "        for _ in range(NUM_CONV_LAYERS):\n",
        "            layers.append(\n",
        "                nn.Conv2d(\n",
        "                    in_channels,\n",
        "                    NUM_HIDDEN_CHANNELS,\n",
        "                    (KERNEL_SIZE, KERNEL_SIZE),\n",
        "                    padding='same'\n",
        "                )\n",
        "            )\n",
        "            layers.append(nn.BatchNorm2d(NUM_HIDDEN_CHANNELS))\n",
        "            layers.append(nn.ReLU())\n",
        "            layers.append(nn.MaxPool2d(2))\n",
        "            in_channels = NUM_HIDDEN_CHANNELS\n",
        "        layers.append(nn.Flatten())\n",
        "        self._layers = nn.Sequential(*layers)\n",
        "        self.to(device)\n",
        "\n",
        "    def forward(self, images):\n",
        "        \"\"\"Computes the latent representation of a batch of images.\n",
        "\n",
        "        Args:\n",
        "            images (Tensor): batch of Omniglot images\n",
        "                shape (num_images, channels, height, width)\n",
        "\n",
        "        Returns:\n",
        "            a Tensor containing a batch of latent representations\n",
        "                shape (num_images, latents)\n",
        "        \"\"\"\n",
        "        return self._layers(images)\n",
        "\n",
        "\n",
        "class ProtoNet:\n",
        "    \"\"\"Trains and assesses a prototypical network.\"\"\"\n",
        "\n",
        "    def __init__(self, learning_rate, log_dir, device, compile=False, backend=None, learner=None, val_interval=None, save_interval=None, bio=False):\n",
        "        \"\"\"Inits ProtoNet.\n",
        "\n",
        "        Args:\n",
        "            learning_rate (float): learning rate for the Adam optimizer\n",
        "            log_dir (str): path to logging directory\n",
        "            device (str): device to be used\n",
        "        \"\"\"\n",
        "        self.device = device\n",
        "        if learner is None:\n",
        "            self._network = ProtoNetNetwork(device)\n",
        "        else:\n",
        "            self._network = learner.to(device)\n",
        "\n",
        "        self.val_interval = VAL_INTERVAL if val_interval is None else val_interval\n",
        "        self.save_interval = SAVE_INTERVAL if save_interval is None else save_interval\n",
        "        self.bio = bio\n",
        "\n",
        "        if(compile == True):\n",
        "            try:\n",
        "                self._network = torch.compile(self._network, backend=backend)\n",
        "                print(f\"ProtoNetNetwork model compiled\")\n",
        "            except Exception as err:\n",
        "                print(f\"Model compile not supported: {err}\")\n",
        "\n",
        "        self._optimizer = torch.optim.Adam(\n",
        "            self._network.parameters(),\n",
        "            lr=learning_rate\n",
        "        )\n",
        "        self._log_dir = log_dir\n",
        "        os.makedirs(self._log_dir, exist_ok=True)\n",
        "\n",
        "        self._start_train_step = 0\n",
        "\n",
        "    def _step(self, task_batch):\n",
        "        \"\"\"Computes ProtoNet mean loss (and accuracy) on a batch of tasks.\n",
        "\n",
        "        Args:\n",
        "            task_batch (tuple[Tensor, Tensor, Tensor, Tensor]):\n",
        "                batch of tasks from an Omniglot DataLoader\n",
        "\n",
        "        Returns:\n",
        "            a Tensor containing mean ProtoNet loss over the batch\n",
        "                shape ()\n",
        "            mean support set accuracy over the batch as a float\n",
        "            mean query set accuracy over the batch as a float\n",
        "        \"\"\"\n",
        "        loss_batch = []\n",
        "        accuracy_support_batch = []\n",
        "        accuracy_query_batch = []\n",
        "        for i, task in enumerate(task_batch):\n",
        "            # print(i)\n",
        "            images_support, labels_support, images_query, labels_query = task\n",
        "            # print(images_support.shape, labels_support.shape, images_query.shape, labels_query.shape)\n",
        "            images_support = images_support.to(self.device)\n",
        "            labels_support = labels_support.to(self.device)\n",
        "            images_query = images_query.to(self.device)\n",
        "            labels_query = labels_query.to(self.device)\n",
        "\n",
        "            ### START CODE HERE ###\n",
        "            # TODO: finish implementing this method.\n",
        "            # For a given task, compute the prototypes and the protonet loss.\n",
        "            # Use F.cross_entropy to compute classification losses.\n",
        "            # Use util.score to compute accuracies.\n",
        "            # Make sure to populate loss_batch, accuracy_support_batch, and\n",
        "            # accuracy_query_batch.\n",
        "\n",
        "            # compute prototypes without tracking gradients\n",
        "                # Generate support features\n",
        "            supp_feats = self._network(images_support)\n",
        "\n",
        "            classes = torch.unique(labels_support, sorted=True)\n",
        "            prototypes = []\n",
        "            for c in classes:\n",
        "                idxes = (labels_support == c).nonzero()\n",
        "                class_feats = supp_feats[idxes]\n",
        "                prototype = torch.mean(class_feats, dim=0)\n",
        "                prototypes.append(prototype)\n",
        "\n",
        "            prototypes = torch.cat(prototypes)  # (num_classes, feature_dim)\n",
        "\n",
        "            # now to measure distances to all means\n",
        "            # (batch_size, feature_dim)\n",
        "            query_feats = self._network(images_query)\n",
        "            # (batch_size, num_classes, feature_dim)\n",
        "            query_feats = torch.stack([query_feats] * prototypes.size(0), dim=1)\n",
        "\n",
        "            expanded_prototypes = prototypes.expand(*query_feats.shape)\n",
        "\n",
        "            # (batch_size, num_classes, feature_dim)\n",
        "            query_diffs = query_feats - expanded_prototypes\n",
        "            # (batch_size, num_classes)\n",
        "            query_sq_norms = torch.norm(query_diffs, p=2, dim=-1).square()\n",
        "            query_logits = -query_sq_norms\n",
        "\n",
        "            loss = F.cross_entropy(query_logits, labels_query)\n",
        "            loss_batch.append(loss)\n",
        "\n",
        "            # compute accuracies\n",
        "            query_acc = score(query_logits, labels_query)\n",
        "            accuracy_query_batch.append(query_acc)\n",
        "\n",
        "            # for calculating acc and loss for support set\n",
        "\n",
        "            # (batch_size, num_classes, feature_dim)\n",
        "            supp_feats = torch.stack([supp_feats] * prototypes.size(0), dim=1)\n",
        "\n",
        "            expanded_prototypes = prototypes.expand(*supp_feats.shape)\n",
        "\n",
        "            # (batch_size, num_classes, feature_dim)\n",
        "            supp_diffs = supp_feats - expanded_prototypes\n",
        "            # (batch_size, num_classes)\n",
        "            supp_sq_norms = torch.norm(supp_diffs, p=2, dim=2).square()\n",
        "            supp_logits = -supp_sq_norms\n",
        "            supp_acc = score(supp_logits, labels_support)\n",
        "            accuracy_support_batch.append(supp_acc)\n",
        "\n",
        "            ### END CODE HERE ###\n",
        "        return (\n",
        "            torch.mean(torch.stack(loss_batch)),\n",
        "            np.mean(accuracy_support_batch),\n",
        "            np.mean(accuracy_query_batch)\n",
        "        )\n",
        "\n",
        "    def train(self, dataloader_meta_train, dataloader_meta_val, writer):\n",
        "        \"\"\"Train the ProtoNet.\n",
        "\n",
        "        Consumes dataloader_meta_train to optimize weights of ProtoNetNetwork\n",
        "        while periodically validating on dataloader_meta_val, logging metrics, and\n",
        "        saving checkpoints.\n",
        "\n",
        "        Args:\n",
        "            dataloader_meta_train (DataLoader): loader for train tasks\n",
        "            dataloader_meta_val (DataLoader): loader for validation tasks\n",
        "            writer (SummaryWriter): TensorBoard logger\n",
        "        \"\"\"\n",
        "        print(f'Starting training at iteration {self._start_train_step}.')\n",
        "        MAX_TRAIN = len(dataloader_meta_train)\n",
        "        # exit()\n",
        "        for i_step, task_batch in enumerate(\n",
        "                dataloader_meta_train,\n",
        "                start=self._start_train_step\n",
        "        ):\n",
        "            if i_step > MAX_TRAIN:\n",
        "                break\n",
        "            self._optimizer.zero_grad()\n",
        "            loss, accuracy_support, accuracy_query = self._step(task_batch)\n",
        "            loss.backward()\n",
        "            self._optimizer.step()\n",
        "\n",
        "            if i_step % PRINT_INTERVAL == 0:\n",
        "                print(\n",
        "                    f'Iteration {i_step}: '\n",
        "                    f'loss: {loss.item():.3f}, '\n",
        "                    f'support accuracy: {accuracy_support.item():.3f}, '\n",
        "                    f'query accuracy: {accuracy_query.item():.3f}'\n",
        "                )\n",
        "                writer.add_scalar('loss/train', loss.item(), i_step)\n",
        "                writer.add_scalar(\n",
        "                    'train_accuracy/support',\n",
        "                    accuracy_support.item(),\n",
        "                    i_step\n",
        "                )\n",
        "                writer.add_scalar(\n",
        "                    'train_accuracy/query',\n",
        "                    accuracy_query.item(),\n",
        "                    i_step\n",
        "                )\n",
        "\n",
        "            if i_step % self.val_interval == 0:\n",
        "                print(\"Start Validation...\")\n",
        "                with torch.no_grad():\n",
        "                    losses, accuracies_support, accuracies_query = [], [], []\n",
        "                    for i, val_task_batch in enumerate(dataloader_meta_val):\n",
        "                        if self.bio and i > 600:\n",
        "                            break\n",
        "                        loss, accuracy_support, accuracy_query = (\n",
        "                            self._step(val_task_batch)\n",
        "                        )\n",
        "                        losses.append(loss.item())\n",
        "                        accuracies_support.append(accuracy_support)\n",
        "                        accuracies_query.append(accuracy_query)\n",
        "                    loss = np.mean(losses)\n",
        "                    accuracy_support = np.mean(accuracies_support)\n",
        "                    accuracy_query = np.mean(accuracies_query)\n",
        "                    ci95 = 1.96 * np.std(accuracies_query) / np.sqrt(600 * 4)\n",
        "                if self.bio:\n",
        "                    print(\n",
        "                        f'Validation: '\n",
        "                        f'loss: {loss:.3f}, '\n",
        "                        f'support accuracy: {accuracy_support:.3f}, '\n",
        "                        f'query accuracy: {accuracy_query:.3f}',\n",
        "                        f'Ci95: {ci95:.3f}'\n",
        "                    )\n",
        "                else:\n",
        "                    print(\n",
        "                        f'Validation: '\n",
        "                        f'loss: {loss:.3f}, '\n",
        "                        f'support accuracy: {accuracy_support:.3f}, '\n",
        "                        f'query accuracy: {accuracy_query:.3f}'\n",
        "                    )\n",
        "                writer.add_scalar('loss/val', loss, i_step)\n",
        "                writer.add_scalar(\n",
        "                    'val_accuracy/support',\n",
        "                    accuracy_support,\n",
        "                    i_step\n",
        "                )\n",
        "                writer.add_scalar(\n",
        "                    'val_accuracy/query',\n",
        "                    accuracy_query,\n",
        "                    i_step\n",
        "                )\n",
        "                if self.bio:\n",
        "                    writer.add_scalar(\n",
        "                        'val_accuracy/ci95',\n",
        "                        ci95,\n",
        "                        i_step\n",
        "                    )\n",
        "            if i_step % self.save_interval == 0:\n",
        "                self._save(i_step)\n",
        "\n",
        "    def test(self, dataloader_test):\n",
        "        \"\"\"Evaluate the ProtoNet on test tasks.\n",
        "\n",
        "        Args:\n",
        "            dataloader_test (DataLoader): loader for test tasks\n",
        "        \"\"\"\n",
        "        accuracies = []\n",
        "        for i, task_batch in enumerate(dataloader_test):\n",
        "            accuracies.append(self._step(task_batch)[2])\n",
        "        mean = np.mean(accuracies)\n",
        "        std = np.std(accuracies)\n",
        "        mean_95_confidence_interval = 1.96 * std / np.sqrt(NUM_TEST_TASKS)\n",
        "        print(\n",
        "            f'Accuracy over {NUM_TEST_TASKS} test tasks: '\n",
        "            f'mean {mean:.3f}, '\n",
        "            f'95% confidence interval {mean_95_confidence_interval:.3f}'\n",
        "        )\n",
        "\n",
        "    def load(self, checkpoint_step, filename=\"\"):\n",
        "        \"\"\"Loads a checkpoint.\n",
        "\n",
        "        Args:\n",
        "            checkpoint_step (int): iteration of checkpoint to load\n",
        "            filename (str): directly setting name of checkpoint file, default =\"\", when argument is passed, then checkpoint will be ignored\n",
        "\n",
        "        Raises:\n",
        "            ValueError: if checkpoint for checkpoint_step is not found\n",
        "        \"\"\"\n",
        "        target_path = (\n",
        "            f'{os.path.join(self._log_dir, \"state\")}'\n",
        "            f'{checkpoint_step}.pt'\n",
        "        ) if filename == \"\" else filename\n",
        "        if os.path.isfile(target_path):\n",
        "            state = torch.load(target_path)\n",
        "            self._network.load_state_dict(state['network_state_dict'])\n",
        "            self._optimizer.load_state_dict(state['optimizer_state_dict'])\n",
        "            self._start_train_step = checkpoint_step + 1\n",
        "            print(f'Loaded checkpoint iteration {checkpoint_step}.')\n",
        "        else:\n",
        "            raise ValueError(\n",
        "                f'No checkpoint for iteration {checkpoint_step} found.'\n",
        "            )\n",
        "\n",
        "    def _save(self, checkpoint_step):\n",
        "        \"\"\"Saves network and optimizer state_dicts as a checkpoint.\n",
        "\n",
        "        Args:\n",
        "            checkpoint_step (int): iteration to label checkpoint with\n",
        "        \"\"\"\n",
        "        torch.save(\n",
        "            dict(network_state_dict=self._network.state_dict(),\n",
        "                 optimizer_state_dict=self._optimizer.state_dict()),\n",
        "            f'{os.path.join(self._log_dir, \"state\")}{checkpoint_step}.pt'\n",
        "        )\n",
        "        print('Saved checkpoint.')\n",
        "\n",
        "\n",
        "def main(args):\n",
        "\n",
        "    print(args)\n",
        "\n",
        "    if args.device == \"gpu\" and torch.backends.mps.is_available() and torch.backends.mps.is_built():\n",
        "        DEVICE = \"mps\"\n",
        "    elif args.device == \"gpu\" and torch.cuda.is_available():\n",
        "        DEVICE = \"cuda\"\n",
        "    else:\n",
        "        DEVICE = \"cpu\"\n",
        "\n",
        "    print(\"Using device: \", DEVICE)\n",
        "\n",
        "    log_dir = args.log_dir\n",
        "    if log_dir is None:\n",
        "        log_dir = f'./logs/protonet/omniglot.way_{args.num_way}.support_{args.num_support}.query_{args.num_query}.lr_{args.learning_rate}.batch_size_{args.batch_size}'  # pylint: disable=line-too-long\n",
        "    print(f'log_dir: {log_dir}')\n",
        "    writer = tensorboard.SummaryWriter(log_dir=log_dir)\n",
        "\n",
        "    protonet = ProtoNet(args.learning_rate, log_dir, DEVICE, args.compile, args.backend)\n",
        "\n",
        "    if args.checkpoint_step > -1:\n",
        "        protonet.load(args.checkpoint_step)\n",
        "    else:\n",
        "        print('Checkpoint loading skipped.')\n",
        "\n",
        "    if not args.test:\n",
        "        num_training_tasks = args.batch_size * (args.num_train_iterations -\n",
        "                                                args.checkpoint_step - 1)\n",
        "        print(\n",
        "            f'Training on tasks with composition '\n",
        "            f'num_way={args.num_way}, '\n",
        "            f'num_support={args.num_support}, '\n",
        "            f'num_query={args.num_query}'\n",
        "        )\n",
        "        dataloader_meta_train = get_omniglot_dataloader(\n",
        "            'train',\n",
        "            args.batch_size,\n",
        "            args.num_way,\n",
        "            args.num_support,\n",
        "            args.num_query,\n",
        "            num_training_tasks,\n",
        "            args.num_workers\n",
        "        )\n",
        "        dataloader_meta_val = get_omniglot_dataloader(\n",
        "            'val',\n",
        "            args.batch_size,\n",
        "            args.num_way,\n",
        "            args.num_support,\n",
        "            args.num_query,\n",
        "            args.batch_size * 4,\n",
        "            args.num_workers,\n",
        "        )\n",
        "        protonet.train(\n",
        "            dataloader_meta_train,\n",
        "            dataloader_meta_val,\n",
        "            writer\n",
        "        )\n",
        "    else:\n",
        "        print(\n",
        "            f'Testing on tasks with composition '\n",
        "            f'num_way={args.num_way}, '\n",
        "            f'num_support={args.num_support}, '\n",
        "            f'num_query={args.num_query}'\n",
        "        )\n",
        "        dataloader_test =  get_omniglot_dataloader(\n",
        "            'test',\n",
        "            1,\n",
        "            args.num_way,\n",
        "            args.num_support,\n",
        "            args.num_query,\n",
        "            NUM_TEST_TASKS,\n",
        "            args.num_workers\n",
        "        )\n",
        "        protonet.test(dataloader_test)\n",
        "\n",
        "\n"
      ],
      "metadata": {
        "id": "wsfF2EFgkw9G"
      },
      "execution_count": 17,
      "outputs": []
    },
    {
      "cell_type": "code",
      "source": [
        "class Args:\n",
        "  def __init__(self):\n",
        "    self.log_dir = None\n",
        "    self.num_way = 5\n",
        "    self.num_support = 5\n",
        "    self.num_query = 5\n",
        "    self.learning_rate = 0.001\n",
        "    self.batch_size = 16\n",
        "    self.num_train_iterations = 2000\n",
        "    self.test = False\n",
        "    self.checkpoint_step = -1\n",
        "    self.num_workers = 2\n",
        "    self.device = \"gpu\"\n",
        "    self.compile = False\n",
        "    self.cache = False\n",
        "    self.backend = \"inductor\"\n",
        "\n"
      ],
      "metadata": {
        "id": "S9JaSUhJkw37"
      },
      "execution_count": 18,
      "outputs": []
    },
    {
      "cell_type": "code",
      "source": [
        "args = Args()\n",
        "main(args)"
      ],
      "metadata": {
        "id": "Ha1eBG71kw0x",
        "colab": {
          "base_uri": "https://localhost:8080/"
        },
        "outputId": "0537dbe1-5ca8-4d89-8557-bd8df37dac53"
      },
      "execution_count": 14,
      "outputs": [
        {
          "metadata": {
            "tags": null
          },
          "name": "stdout",
          "output_type": "stream",
          "text": [
            "<__main__.Args object at 0x791a81c505e0>\n",
            "Using device:  cuda\n",
            "log_dir: ./logs/protonet/omniglot.way_5.support_5.query_5.lr_0.001.batch_size_16\n",
            "Checkpoint loading skipped.\n",
            "Training on tasks with composition num_way=5, num_support=5, num_query=5\n",
            "Starting training at iteration 0.\n"
          ]
        },
        {
          "metadata": {
            "tags": null
          },
          "name": "stderr",
          "output_type": "stream",
          "text": [
            "<ipython-input-6-079f4bf87d5c>:27: DeprecationWarning: Starting with ImageIO v3 the behavior of this function will switch to that of iio.v3.imread. To keep the current behavior (and make this warning disappear) use `import imageio.v2 as imageio` or call `imageio.v2.imread` directly.\n",
            "  x = imageio.imread(file_path)\n",
            "<ipython-input-6-079f4bf87d5c>:27: DeprecationWarning: Starting with ImageIO v3 the behavior of this function will switch to that of iio.v3.imread. To keep the current behavior (and make this warning disappear) use `import imageio.v2 as imageio` or call `imageio.v2.imread` directly.\n",
            "  x = imageio.imread(file_path)\n"
          ]
        },
        {
          "metadata": {
            "tags": null
          },
          "name": "stdout",
          "output_type": "stream",
          "text": [
            "Iteration 0: loss: 0.849, support accuracy: 0.992, query accuracy: 0.767\n",
            "Start Validation...\n"
          ]
        },
        {
          "metadata": {
            "tags": null
          },
          "name": "stderr",
          "output_type": "stream",
          "text": [
            "<ipython-input-6-079f4bf87d5c>:27: DeprecationWarning: Starting with ImageIO v3 the behavior of this function will switch to that of iio.v3.imread. To keep the current behavior (and make this warning disappear) use `import imageio.v2 as imageio` or call `imageio.v2.imread` directly.\n",
            "  x = imageio.imread(file_path)\n",
            "<ipython-input-6-079f4bf87d5c>:27: DeprecationWarning: Starting with ImageIO v3 the behavior of this function will switch to that of iio.v3.imread. To keep the current behavior (and make this warning disappear) use `import imageio.v2 as imageio` or call `imageio.v2.imread` directly.\n",
            "  x = imageio.imread(file_path)\n"
          ]
        },
        {
          "metadata": {
            "tags": null
          },
          "name": "stdout",
          "output_type": "stream",
          "text": [
            "Validation: loss: 0.537, support accuracy: 0.987, query accuracy: 0.837\n",
            "Saved checkpoint.\n",
            "Iteration 10: loss: 0.269, support accuracy: 0.980, query accuracy: 0.902\n",
            "Iteration 20: loss: 0.329, support accuracy: 0.987, query accuracy: 0.922\n",
            "Iteration 30: loss: 0.099, support accuracy: 0.997, query accuracy: 0.965\n",
            "Iteration 40: loss: 0.097, support accuracy: 1.000, query accuracy: 0.967\n",
            "Iteration 50: loss: 0.105, support accuracy: 0.997, query accuracy: 0.965\n",
            "Start Validation...\n"
          ]
        },
        {
          "metadata": {
            "tags": null
          },
          "name": "stderr",
          "output_type": "stream",
          "text": [
            "<ipython-input-6-079f4bf87d5c>:27: DeprecationWarning: Starting with ImageIO v3 the behavior of this function will switch to that of iio.v3.imread. To keep the current behavior (and make this warning disappear) use `import imageio.v2 as imageio` or call `imageio.v2.imread` directly.\n",
            "  x = imageio.imread(file_path)\n",
            "<ipython-input-6-079f4bf87d5c>:27: DeprecationWarning: Starting with ImageIO v3 the behavior of this function will switch to that of iio.v3.imread. To keep the current behavior (and make this warning disappear) use `import imageio.v2 as imageio` or call `imageio.v2.imread` directly.\n",
            "  x = imageio.imread(file_path)\n"
          ]
        },
        {
          "metadata": {
            "tags": null
          },
          "name": "stdout",
          "output_type": "stream",
          "text": [
            "Validation: loss: 0.105, support accuracy: 0.996, query accuracy: 0.966\n",
            "Iteration 60: loss: 0.051, support accuracy: 1.000, query accuracy: 0.982\n",
            "Iteration 70: loss: 0.114, support accuracy: 0.997, query accuracy: 0.955\n",
            "Iteration 80: loss: 0.083, support accuracy: 1.000, query accuracy: 0.965\n",
            "Iteration 90: loss: 0.068, support accuracy: 0.997, query accuracy: 0.985\n",
            "Iteration 100: loss: 0.043, support accuracy: 1.000, query accuracy: 0.985\n",
            "Start Validation...\n"
          ]
        },
        {
          "metadata": {
            "tags": null
          },
          "name": "stderr",
          "output_type": "stream",
          "text": [
            "<ipython-input-6-079f4bf87d5c>:27: DeprecationWarning: Starting with ImageIO v3 the behavior of this function will switch to that of iio.v3.imread. To keep the current behavior (and make this warning disappear) use `import imageio.v2 as imageio` or call `imageio.v2.imread` directly.\n",
            "  x = imageio.imread(file_path)\n",
            "<ipython-input-6-079f4bf87d5c>:27: DeprecationWarning: Starting with ImageIO v3 the behavior of this function will switch to that of iio.v3.imread. To keep the current behavior (and make this warning disappear) use `import imageio.v2 as imageio` or call `imageio.v2.imread` directly.\n",
            "  x = imageio.imread(file_path)\n"
          ]
        },
        {
          "metadata": {
            "tags": null
          },
          "name": "stdout",
          "output_type": "stream",
          "text": [
            "Validation: loss: 0.057, support accuracy: 0.996, query accuracy: 0.979\n",
            "Saved checkpoint.\n",
            "Iteration 110: loss: 0.025, support accuracy: 0.997, query accuracy: 0.985\n",
            "Iteration 120: loss: 0.022, support accuracy: 0.995, query accuracy: 0.990\n",
            "Iteration 130: loss: 0.045, support accuracy: 1.000, query accuracy: 0.987\n",
            "Iteration 140: loss: 0.046, support accuracy: 0.995, query accuracy: 0.982\n",
            "Iteration 150: loss: 0.038, support accuracy: 1.000, query accuracy: 0.987\n",
            "Start Validation...\n"
          ]
        },
        {
          "metadata": {
            "tags": null
          },
          "name": "stderr",
          "output_type": "stream",
          "text": [
            "<ipython-input-6-079f4bf87d5c>:27: DeprecationWarning: Starting with ImageIO v3 the behavior of this function will switch to that of iio.v3.imread. To keep the current behavior (and make this warning disappear) use `import imageio.v2 as imageio` or call `imageio.v2.imread` directly.\n",
            "  x = imageio.imread(file_path)\n",
            "<ipython-input-6-079f4bf87d5c>:27: DeprecationWarning: Starting with ImageIO v3 the behavior of this function will switch to that of iio.v3.imread. To keep the current behavior (and make this warning disappear) use `import imageio.v2 as imageio` or call `imageio.v2.imread` directly.\n",
            "  x = imageio.imread(file_path)\n"
          ]
        },
        {
          "metadata": {
            "tags": null
          },
          "name": "stdout",
          "output_type": "stream",
          "text": [
            "Validation: loss: 0.042, support accuracy: 0.997, query accuracy: 0.988\n",
            "Iteration 160: loss: 0.075, support accuracy: 1.000, query accuracy: 0.982\n",
            "Iteration 170: loss: 0.022, support accuracy: 0.997, query accuracy: 0.990\n",
            "Iteration 180: loss: 0.025, support accuracy: 1.000, query accuracy: 0.990\n",
            "Iteration 190: loss: 0.042, support accuracy: 0.997, query accuracy: 0.987\n",
            "Iteration 200: loss: 0.025, support accuracy: 1.000, query accuracy: 0.987\n",
            "Start Validation...\n"
          ]
        },
        {
          "metadata": {
            "tags": null
          },
          "name": "stderr",
          "output_type": "stream",
          "text": [
            "<ipython-input-6-079f4bf87d5c>:27: DeprecationWarning: Starting with ImageIO v3 the behavior of this function will switch to that of iio.v3.imread. To keep the current behavior (and make this warning disappear) use `import imageio.v2 as imageio` or call `imageio.v2.imread` directly.\n",
            "  x = imageio.imread(file_path)\n",
            "<ipython-input-6-079f4bf87d5c>:27: DeprecationWarning: Starting with ImageIO v3 the behavior of this function will switch to that of iio.v3.imread. To keep the current behavior (and make this warning disappear) use `import imageio.v2 as imageio` or call `imageio.v2.imread` directly.\n",
            "  x = imageio.imread(file_path)\n"
          ]
        },
        {
          "metadata": {
            "tags": null
          },
          "name": "stdout",
          "output_type": "stream",
          "text": [
            "Validation: loss: 0.053, support accuracy: 0.997, query accuracy: 0.982\n",
            "Saved checkpoint.\n",
            "Iteration 210: loss: 0.034, support accuracy: 0.995, query accuracy: 0.987\n",
            "Iteration 220: loss: 0.023, support accuracy: 0.997, query accuracy: 0.992\n",
            "Iteration 230: loss: 0.038, support accuracy: 1.000, query accuracy: 0.987\n",
            "Iteration 240: loss: 0.037, support accuracy: 1.000, query accuracy: 0.987\n",
            "Iteration 250: loss: 0.042, support accuracy: 1.000, query accuracy: 0.982\n",
            "Start Validation...\n"
          ]
        },
        {
          "metadata": {
            "tags": null
          },
          "name": "stderr",
          "output_type": "stream",
          "text": [
            "<ipython-input-6-079f4bf87d5c>:27: DeprecationWarning: Starting with ImageIO v3 the behavior of this function will switch to that of iio.v3.imread. To keep the current behavior (and make this warning disappear) use `import imageio.v2 as imageio` or call `imageio.v2.imread` directly.\n",
            "  x = imageio.imread(file_path)\n",
            "<ipython-input-6-079f4bf87d5c>:27: DeprecationWarning: Starting with ImageIO v3 the behavior of this function will switch to that of iio.v3.imread. To keep the current behavior (and make this warning disappear) use `import imageio.v2 as imageio` or call `imageio.v2.imread` directly.\n",
            "  x = imageio.imread(file_path)\n"
          ]
        },
        {
          "metadata": {
            "tags": null
          },
          "name": "stdout",
          "output_type": "stream",
          "text": [
            "Validation: loss: 0.034, support accuracy: 0.999, query accuracy: 0.987\n",
            "Iteration 260: loss: 0.035, support accuracy: 0.997, query accuracy: 0.992\n",
            "Iteration 270: loss: 0.022, support accuracy: 0.997, query accuracy: 0.990\n",
            "Iteration 280: loss: 0.035, support accuracy: 1.000, query accuracy: 0.990\n",
            "Iteration 290: loss: 0.023, support accuracy: 1.000, query accuracy: 0.997\n",
            "Iteration 300: loss: 0.017, support accuracy: 0.997, query accuracy: 0.995\n",
            "Start Validation...\n"
          ]
        },
        {
          "metadata": {
            "tags": null
          },
          "name": "stderr",
          "output_type": "stream",
          "text": [
            "<ipython-input-6-079f4bf87d5c>:27: DeprecationWarning: Starting with ImageIO v3 the behavior of this function will switch to that of iio.v3.imread. To keep the current behavior (and make this warning disappear) use `import imageio.v2 as imageio` or call `imageio.v2.imread` directly.\n",
            "  x = imageio.imread(file_path)\n",
            "<ipython-input-6-079f4bf87d5c>:27: DeprecationWarning: Starting with ImageIO v3 the behavior of this function will switch to that of iio.v3.imread. To keep the current behavior (and make this warning disappear) use `import imageio.v2 as imageio` or call `imageio.v2.imread` directly.\n",
            "  x = imageio.imread(file_path)\n"
          ]
        },
        {
          "metadata": {
            "tags": null
          },
          "name": "stdout",
          "output_type": "stream",
          "text": [
            "Validation: loss: 0.047, support accuracy: 0.999, query accuracy: 0.982\n",
            "Saved checkpoint.\n",
            "Iteration 310: loss: 0.027, support accuracy: 1.000, query accuracy: 0.990\n",
            "Iteration 320: loss: 0.009, support accuracy: 1.000, query accuracy: 0.997\n",
            "Iteration 330: loss: 0.022, support accuracy: 1.000, query accuracy: 0.987\n",
            "Iteration 340: loss: 0.073, support accuracy: 0.997, query accuracy: 0.970\n",
            "Iteration 350: loss: 0.069, support accuracy: 1.000, query accuracy: 0.975\n",
            "Start Validation...\n"
          ]
        },
        {
          "metadata": {
            "tags": null
          },
          "name": "stderr",
          "output_type": "stream",
          "text": [
            "<ipython-input-6-079f4bf87d5c>:27: DeprecationWarning: Starting with ImageIO v3 the behavior of this function will switch to that of iio.v3.imread. To keep the current behavior (and make this warning disappear) use `import imageio.v2 as imageio` or call `imageio.v2.imread` directly.\n",
            "  x = imageio.imread(file_path)\n",
            "<ipython-input-6-079f4bf87d5c>:27: DeprecationWarning: Starting with ImageIO v3 the behavior of this function will switch to that of iio.v3.imread. To keep the current behavior (and make this warning disappear) use `import imageio.v2 as imageio` or call `imageio.v2.imread` directly.\n",
            "  x = imageio.imread(file_path)\n"
          ]
        },
        {
          "metadata": {
            "tags": null
          },
          "name": "stdout",
          "output_type": "stream",
          "text": [
            "Validation: loss: 0.040, support accuracy: 0.997, query accuracy: 0.984\n",
            "Iteration 360: loss: 0.015, support accuracy: 1.000, query accuracy: 0.992\n",
            "Iteration 370: loss: 0.028, support accuracy: 0.997, query accuracy: 0.990\n",
            "Iteration 380: loss: 0.019, support accuracy: 1.000, query accuracy: 0.992\n",
            "Iteration 390: loss: 0.013, support accuracy: 1.000, query accuracy: 0.997\n",
            "Iteration 400: loss: 0.053, support accuracy: 1.000, query accuracy: 0.985\n",
            "Start Validation...\n"
          ]
        },
        {
          "metadata": {
            "tags": null
          },
          "name": "stderr",
          "output_type": "stream",
          "text": [
            "<ipython-input-6-079f4bf87d5c>:27: DeprecationWarning: Starting with ImageIO v3 the behavior of this function will switch to that of iio.v3.imread. To keep the current behavior (and make this warning disappear) use `import imageio.v2 as imageio` or call `imageio.v2.imread` directly.\n",
            "  x = imageio.imread(file_path)\n",
            "<ipython-input-6-079f4bf87d5c>:27: DeprecationWarning: Starting with ImageIO v3 the behavior of this function will switch to that of iio.v3.imread. To keep the current behavior (and make this warning disappear) use `import imageio.v2 as imageio` or call `imageio.v2.imread` directly.\n",
            "  x = imageio.imread(file_path)\n"
          ]
        },
        {
          "metadata": {
            "tags": null
          },
          "name": "stdout",
          "output_type": "stream",
          "text": [
            "Validation: loss: 0.035, support accuracy: 0.996, query accuracy: 0.988\n",
            "Saved checkpoint.\n",
            "Iteration 410: loss: 0.021, support accuracy: 0.997, query accuracy: 0.992\n",
            "Iteration 420: loss: 0.036, support accuracy: 1.000, query accuracy: 0.987\n",
            "Iteration 430: loss: 0.008, support accuracy: 1.000, query accuracy: 0.997\n",
            "Iteration 440: loss: 0.018, support accuracy: 0.997, query accuracy: 0.995\n",
            "Iteration 450: loss: 0.008, support accuracy: 1.000, query accuracy: 0.995\n",
            "Start Validation...\n"
          ]
        },
        {
          "metadata": {
            "tags": null
          },
          "name": "stderr",
          "output_type": "stream",
          "text": [
            "<ipython-input-6-079f4bf87d5c>:27: DeprecationWarning: Starting with ImageIO v3 the behavior of this function will switch to that of iio.v3.imread. To keep the current behavior (and make this warning disappear) use `import imageio.v2 as imageio` or call `imageio.v2.imread` directly.\n",
            "  x = imageio.imread(file_path)\n",
            "<ipython-input-6-079f4bf87d5c>:27: DeprecationWarning: Starting with ImageIO v3 the behavior of this function will switch to that of iio.v3.imread. To keep the current behavior (and make this warning disappear) use `import imageio.v2 as imageio` or call `imageio.v2.imread` directly.\n",
            "  x = imageio.imread(file_path)\n"
          ]
        },
        {
          "metadata": {
            "tags": null
          },
          "name": "stdout",
          "output_type": "stream",
          "text": [
            "Validation: loss: 0.029, support accuracy: 0.998, query accuracy: 0.987\n",
            "Iteration 460: loss: 0.026, support accuracy: 0.997, query accuracy: 0.992\n",
            "Iteration 470: loss: 0.011, support accuracy: 1.000, query accuracy: 0.995\n",
            "Iteration 480: loss: 0.011, support accuracy: 1.000, query accuracy: 0.995\n",
            "Iteration 490: loss: 0.008, support accuracy: 1.000, query accuracy: 0.995\n",
            "Iteration 500: loss: 0.014, support accuracy: 1.000, query accuracy: 0.992\n",
            "Start Validation...\n"
          ]
        },
        {
          "metadata": {
            "tags": null
          },
          "name": "stderr",
          "output_type": "stream",
          "text": [
            "<ipython-input-6-079f4bf87d5c>:27: DeprecationWarning: Starting with ImageIO v3 the behavior of this function will switch to that of iio.v3.imread. To keep the current behavior (and make this warning disappear) use `import imageio.v2 as imageio` or call `imageio.v2.imread` directly.\n",
            "  x = imageio.imread(file_path)\n",
            "<ipython-input-6-079f4bf87d5c>:27: DeprecationWarning: Starting with ImageIO v3 the behavior of this function will switch to that of iio.v3.imread. To keep the current behavior (and make this warning disappear) use `import imageio.v2 as imageio` or call `imageio.v2.imread` directly.\n",
            "  x = imageio.imread(file_path)\n"
          ]
        },
        {
          "metadata": {
            "tags": null
          },
          "name": "stdout",
          "output_type": "stream",
          "text": [
            "Validation: loss: 0.044, support accuracy: 1.000, query accuracy: 0.981\n",
            "Saved checkpoint.\n",
            "Iteration 510: loss: 0.019, support accuracy: 1.000, query accuracy: 0.992\n",
            "Iteration 520: loss: 0.016, support accuracy: 1.000, query accuracy: 0.995\n",
            "Iteration 530: loss: 0.035, support accuracy: 0.997, query accuracy: 0.985\n",
            "Iteration 540: loss: 0.033, support accuracy: 1.000, query accuracy: 0.987\n",
            "Iteration 550: loss: 0.035, support accuracy: 1.000, query accuracy: 0.987\n",
            "Start Validation...\n"
          ]
        },
        {
          "metadata": {
            "tags": null
          },
          "name": "stderr",
          "output_type": "stream",
          "text": [
            "<ipython-input-6-079f4bf87d5c>:27: DeprecationWarning: Starting with ImageIO v3 the behavior of this function will switch to that of iio.v3.imread. To keep the current behavior (and make this warning disappear) use `import imageio.v2 as imageio` or call `imageio.v2.imread` directly.\n",
            "  x = imageio.imread(file_path)\n",
            "<ipython-input-6-079f4bf87d5c>:27: DeprecationWarning: Starting with ImageIO v3 the behavior of this function will switch to that of iio.v3.imread. To keep the current behavior (and make this warning disappear) use `import imageio.v2 as imageio` or call `imageio.v2.imread` directly.\n",
            "  x = imageio.imread(file_path)\n"
          ]
        },
        {
          "metadata": {
            "tags": null
          },
          "name": "stdout",
          "output_type": "stream",
          "text": [
            "Validation: loss: 0.040, support accuracy: 0.999, query accuracy: 0.987\n",
            "Iteration 560: loss: 0.025, support accuracy: 0.997, query accuracy: 0.997\n",
            "Iteration 570: loss: 0.026, support accuracy: 0.995, query accuracy: 0.987\n",
            "Iteration 580: loss: 0.014, support accuracy: 1.000, query accuracy: 0.995\n",
            "Iteration 590: loss: 0.016, support accuracy: 0.997, query accuracy: 0.992\n",
            "Iteration 600: loss: 0.006, support accuracy: 1.000, query accuracy: 0.997\n",
            "Start Validation...\n"
          ]
        },
        {
          "metadata": {
            "tags": null
          },
          "name": "stderr",
          "output_type": "stream",
          "text": [
            "<ipython-input-6-079f4bf87d5c>:27: DeprecationWarning: Starting with ImageIO v3 the behavior of this function will switch to that of iio.v3.imread. To keep the current behavior (and make this warning disappear) use `import imageio.v2 as imageio` or call `imageio.v2.imread` directly.\n",
            "  x = imageio.imread(file_path)\n",
            "<ipython-input-6-079f4bf87d5c>:27: DeprecationWarning: Starting with ImageIO v3 the behavior of this function will switch to that of iio.v3.imread. To keep the current behavior (and make this warning disappear) use `import imageio.v2 as imageio` or call `imageio.v2.imread` directly.\n",
            "  x = imageio.imread(file_path)\n"
          ]
        },
        {
          "metadata": {
            "tags": null
          },
          "name": "stdout",
          "output_type": "stream",
          "text": [
            "Validation: loss: 0.032, support accuracy: 0.999, query accuracy: 0.987\n",
            "Saved checkpoint.\n",
            "Iteration 610: loss: 0.011, support accuracy: 1.000, query accuracy: 0.997\n",
            "Iteration 620: loss: 0.028, support accuracy: 1.000, query accuracy: 0.990\n",
            "Iteration 630: loss: 0.015, support accuracy: 1.000, query accuracy: 0.997\n",
            "Iteration 640: loss: 0.019, support accuracy: 0.992, query accuracy: 0.992\n",
            "Iteration 650: loss: 0.008, support accuracy: 1.000, query accuracy: 0.997\n",
            "Start Validation...\n"
          ]
        },
        {
          "metadata": {
            "tags": null
          },
          "name": "stderr",
          "output_type": "stream",
          "text": [
            "<ipython-input-6-079f4bf87d5c>:27: DeprecationWarning: Starting with ImageIO v3 the behavior of this function will switch to that of iio.v3.imread. To keep the current behavior (and make this warning disappear) use `import imageio.v2 as imageio` or call `imageio.v2.imread` directly.\n",
            "  x = imageio.imread(file_path)\n",
            "<ipython-input-6-079f4bf87d5c>:27: DeprecationWarning: Starting with ImageIO v3 the behavior of this function will switch to that of iio.v3.imread. To keep the current behavior (and make this warning disappear) use `import imageio.v2 as imageio` or call `imageio.v2.imread` directly.\n",
            "  x = imageio.imread(file_path)\n"
          ]
        },
        {
          "metadata": {
            "tags": null
          },
          "name": "stdout",
          "output_type": "stream",
          "text": [
            "Validation: loss: 0.024, support accuracy: 0.999, query accuracy: 0.991\n",
            "Iteration 660: loss: 0.016, support accuracy: 1.000, query accuracy: 0.997\n",
            "Iteration 670: loss: 0.014, support accuracy: 1.000, query accuracy: 0.990\n",
            "Iteration 680: loss: 0.021, support accuracy: 1.000, query accuracy: 0.995\n",
            "Iteration 690: loss: 0.004, support accuracy: 0.997, query accuracy: 1.000\n",
            "Iteration 700: loss: 0.008, support accuracy: 0.997, query accuracy: 0.997\n",
            "Start Validation...\n"
          ]
        },
        {
          "metadata": {
            "tags": null
          },
          "name": "stderr",
          "output_type": "stream",
          "text": [
            "<ipython-input-6-079f4bf87d5c>:27: DeprecationWarning: Starting with ImageIO v3 the behavior of this function will switch to that of iio.v3.imread. To keep the current behavior (and make this warning disappear) use `import imageio.v2 as imageio` or call `imageio.v2.imread` directly.\n",
            "  x = imageio.imread(file_path)\n",
            "<ipython-input-6-079f4bf87d5c>:27: DeprecationWarning: Starting with ImageIO v3 the behavior of this function will switch to that of iio.v3.imread. To keep the current behavior (and make this warning disappear) use `import imageio.v2 as imageio` or call `imageio.v2.imread` directly.\n",
            "  x = imageio.imread(file_path)\n"
          ]
        },
        {
          "metadata": {
            "tags": null
          },
          "name": "stdout",
          "output_type": "stream",
          "text": [
            "Validation: loss: 0.032, support accuracy: 0.999, query accuracy: 0.990\n",
            "Saved checkpoint.\n",
            "Iteration 710: loss: 0.011, support accuracy: 1.000, query accuracy: 0.995\n",
            "Iteration 720: loss: 0.009, support accuracy: 1.000, query accuracy: 0.997\n",
            "Iteration 730: loss: 0.009, support accuracy: 1.000, query accuracy: 0.995\n",
            "Iteration 740: loss: 0.010, support accuracy: 1.000, query accuracy: 0.997\n",
            "Iteration 750: loss: 0.008, support accuracy: 1.000, query accuracy: 0.997\n",
            "Start Validation...\n"
          ]
        },
        {
          "metadata": {
            "tags": null
          },
          "name": "stderr",
          "output_type": "stream",
          "text": [
            "<ipython-input-6-079f4bf87d5c>:27: DeprecationWarning: Starting with ImageIO v3 the behavior of this function will switch to that of iio.v3.imread. To keep the current behavior (and make this warning disappear) use `import imageio.v2 as imageio` or call `imageio.v2.imread` directly.\n",
            "  x = imageio.imread(file_path)\n",
            "<ipython-input-6-079f4bf87d5c>:27: DeprecationWarning: Starting with ImageIO v3 the behavior of this function will switch to that of iio.v3.imread. To keep the current behavior (and make this warning disappear) use `import imageio.v2 as imageio` or call `imageio.v2.imread` directly.\n",
            "  x = imageio.imread(file_path)\n"
          ]
        },
        {
          "metadata": {
            "tags": null
          },
          "name": "stdout",
          "output_type": "stream",
          "text": [
            "Validation: loss: 0.048, support accuracy: 1.000, query accuracy: 0.981\n",
            "Iteration 760: loss: 0.013, support accuracy: 1.000, query accuracy: 0.997\n",
            "Iteration 770: loss: 0.012, support accuracy: 1.000, query accuracy: 0.995\n",
            "Iteration 780: loss: 0.029, support accuracy: 1.000, query accuracy: 0.990\n",
            "Iteration 790: loss: 0.027, support accuracy: 1.000, query accuracy: 0.992\n",
            "Iteration 800: loss: 0.024, support accuracy: 1.000, query accuracy: 0.987\n",
            "Start Validation...\n"
          ]
        },
        {
          "metadata": {
            "tags": null
          },
          "name": "stderr",
          "output_type": "stream",
          "text": [
            "<ipython-input-6-079f4bf87d5c>:27: DeprecationWarning: Starting with ImageIO v3 the behavior of this function will switch to that of iio.v3.imread. To keep the current behavior (and make this warning disappear) use `import imageio.v2 as imageio` or call `imageio.v2.imread` directly.\n",
            "  x = imageio.imread(file_path)\n",
            "<ipython-input-6-079f4bf87d5c>:27: DeprecationWarning: Starting with ImageIO v3 the behavior of this function will switch to that of iio.v3.imread. To keep the current behavior (and make this warning disappear) use `import imageio.v2 as imageio` or call `imageio.v2.imread` directly.\n",
            "  x = imageio.imread(file_path)\n"
          ]
        },
        {
          "metadata": {
            "tags": null
          },
          "name": "stdout",
          "output_type": "stream",
          "text": [
            "Validation: loss: 0.036, support accuracy: 0.999, query accuracy: 0.989\n",
            "Saved checkpoint.\n",
            "Iteration 810: loss: 0.029, support accuracy: 0.997, query accuracy: 0.992\n",
            "Iteration 820: loss: 0.004, support accuracy: 1.000, query accuracy: 0.997\n",
            "Iteration 830: loss: 0.020, support accuracy: 1.000, query accuracy: 0.990\n",
            "Iteration 840: loss: 0.012, support accuracy: 1.000, query accuracy: 0.997\n",
            "Iteration 850: loss: 0.019, support accuracy: 1.000, query accuracy: 0.990\n",
            "Start Validation...\n"
          ]
        },
        {
          "metadata": {
            "tags": null
          },
          "name": "stderr",
          "output_type": "stream",
          "text": [
            "<ipython-input-6-079f4bf87d5c>:27: DeprecationWarning: Starting with ImageIO v3 the behavior of this function will switch to that of iio.v3.imread. To keep the current behavior (and make this warning disappear) use `import imageio.v2 as imageio` or call `imageio.v2.imread` directly.\n",
            "  x = imageio.imread(file_path)\n",
            "<ipython-input-6-079f4bf87d5c>:27: DeprecationWarning: Starting with ImageIO v3 the behavior of this function will switch to that of iio.v3.imread. To keep the current behavior (and make this warning disappear) use `import imageio.v2 as imageio` or call `imageio.v2.imread` directly.\n",
            "  x = imageio.imread(file_path)\n"
          ]
        },
        {
          "metadata": {
            "tags": null
          },
          "name": "stdout",
          "output_type": "stream",
          "text": [
            "Validation: loss: 0.033, support accuracy: 1.000, query accuracy: 0.987\n",
            "Iteration 860: loss: 0.009, support accuracy: 1.000, query accuracy: 0.997\n",
            "Iteration 870: loss: 0.009, support accuracy: 1.000, query accuracy: 0.997\n",
            "Iteration 880: loss: 0.005, support accuracy: 1.000, query accuracy: 1.000\n",
            "Iteration 890: loss: 0.019, support accuracy: 1.000, query accuracy: 0.992\n",
            "Iteration 900: loss: 0.015, support accuracy: 1.000, query accuracy: 0.992\n",
            "Start Validation...\n"
          ]
        },
        {
          "metadata": {
            "tags": null
          },
          "name": "stderr",
          "output_type": "stream",
          "text": [
            "<ipython-input-6-079f4bf87d5c>:27: DeprecationWarning: Starting with ImageIO v3 the behavior of this function will switch to that of iio.v3.imread. To keep the current behavior (and make this warning disappear) use `import imageio.v2 as imageio` or call `imageio.v2.imread` directly.\n",
            "  x = imageio.imread(file_path)\n",
            "<ipython-input-6-079f4bf87d5c>:27: DeprecationWarning: Starting with ImageIO v3 the behavior of this function will switch to that of iio.v3.imread. To keep the current behavior (and make this warning disappear) use `import imageio.v2 as imageio` or call `imageio.v2.imread` directly.\n",
            "  x = imageio.imread(file_path)\n"
          ]
        },
        {
          "metadata": {
            "tags": null
          },
          "name": "stdout",
          "output_type": "stream",
          "text": [
            "Validation: loss: 0.026, support accuracy: 1.000, query accuracy: 0.989\n",
            "Saved checkpoint.\n",
            "Iteration 910: loss: 0.032, support accuracy: 1.000, query accuracy: 0.987\n",
            "Iteration 920: loss: 0.016, support accuracy: 1.000, query accuracy: 0.992\n",
            "Iteration 930: loss: 0.017, support accuracy: 0.997, query accuracy: 0.990\n",
            "Iteration 940: loss: 0.005, support accuracy: 0.997, query accuracy: 0.997\n",
            "Iteration 950: loss: 0.014, support accuracy: 1.000, query accuracy: 0.992\n",
            "Start Validation...\n"
          ]
        },
        {
          "metadata": {
            "tags": null
          },
          "name": "stderr",
          "output_type": "stream",
          "text": [
            "<ipython-input-6-079f4bf87d5c>:27: DeprecationWarning: Starting with ImageIO v3 the behavior of this function will switch to that of iio.v3.imread. To keep the current behavior (and make this warning disappear) use `import imageio.v2 as imageio` or call `imageio.v2.imread` directly.\n",
            "  x = imageio.imread(file_path)\n",
            "<ipython-input-6-079f4bf87d5c>:27: DeprecationWarning: Starting with ImageIO v3 the behavior of this function will switch to that of iio.v3.imread. To keep the current behavior (and make this warning disappear) use `import imageio.v2 as imageio` or call `imageio.v2.imread` directly.\n",
            "  x = imageio.imread(file_path)\n"
          ]
        },
        {
          "metadata": {
            "tags": null
          },
          "name": "stdout",
          "output_type": "stream",
          "text": [
            "Validation: loss: 0.028, support accuracy: 0.999, query accuracy: 0.992\n",
            "Iteration 960: loss: 0.045, support accuracy: 1.000, query accuracy: 0.987\n",
            "Iteration 970: loss: 0.051, support accuracy: 1.000, query accuracy: 0.975\n",
            "Iteration 980: loss: 0.012, support accuracy: 1.000, query accuracy: 0.997\n",
            "Iteration 990: loss: 0.007, support accuracy: 1.000, query accuracy: 0.997\n",
            "Iteration 1000: loss: 0.020, support accuracy: 1.000, query accuracy: 0.992\n",
            "Start Validation...\n"
          ]
        },
        {
          "metadata": {
            "tags": null
          },
          "name": "stderr",
          "output_type": "stream",
          "text": [
            "<ipython-input-6-079f4bf87d5c>:27: DeprecationWarning: Starting with ImageIO v3 the behavior of this function will switch to that of iio.v3.imread. To keep the current behavior (and make this warning disappear) use `import imageio.v2 as imageio` or call `imageio.v2.imread` directly.\n",
            "  x = imageio.imread(file_path)\n",
            "<ipython-input-6-079f4bf87d5c>:27: DeprecationWarning: Starting with ImageIO v3 the behavior of this function will switch to that of iio.v3.imread. To keep the current behavior (and make this warning disappear) use `import imageio.v2 as imageio` or call `imageio.v2.imread` directly.\n",
            "  x = imageio.imread(file_path)\n"
          ]
        },
        {
          "metadata": {
            "tags": null
          },
          "name": "stdout",
          "output_type": "stream",
          "text": [
            "Validation: loss: 0.020, support accuracy: 0.999, query accuracy: 0.993\n",
            "Saved checkpoint.\n",
            "Iteration 1010: loss: 0.009, support accuracy: 1.000, query accuracy: 0.997\n",
            "Iteration 1020: loss: 0.016, support accuracy: 1.000, query accuracy: 0.992\n",
            "Iteration 1030: loss: 0.007, support accuracy: 1.000, query accuracy: 0.997\n",
            "Iteration 1040: loss: 0.018, support accuracy: 1.000, query accuracy: 0.992\n",
            "Iteration 1050: loss: 0.028, support accuracy: 1.000, query accuracy: 0.992\n",
            "Start Validation...\n"
          ]
        },
        {
          "metadata": {
            "tags": null
          },
          "name": "stderr",
          "output_type": "stream",
          "text": [
            "<ipython-input-6-079f4bf87d5c>:27: DeprecationWarning: Starting with ImageIO v3 the behavior of this function will switch to that of iio.v3.imread. To keep the current behavior (and make this warning disappear) use `import imageio.v2 as imageio` or call `imageio.v2.imread` directly.\n",
            "  x = imageio.imread(file_path)\n",
            "<ipython-input-6-079f4bf87d5c>:27: DeprecationWarning: Starting with ImageIO v3 the behavior of this function will switch to that of iio.v3.imread. To keep the current behavior (and make this warning disappear) use `import imageio.v2 as imageio` or call `imageio.v2.imread` directly.\n",
            "  x = imageio.imread(file_path)\n"
          ]
        },
        {
          "metadata": {
            "tags": null
          },
          "name": "stdout",
          "output_type": "stream",
          "text": [
            "Validation: loss: 0.041, support accuracy: 0.999, query accuracy: 0.986\n",
            "Iteration 1060: loss: 0.028, support accuracy: 1.000, query accuracy: 0.985\n",
            "Iteration 1070: loss: 0.015, support accuracy: 0.997, query accuracy: 0.995\n",
            "Iteration 1080: loss: 0.020, support accuracy: 1.000, query accuracy: 0.992\n",
            "Iteration 1090: loss: 0.019, support accuracy: 1.000, query accuracy: 0.987\n",
            "Iteration 1100: loss: 0.007, support accuracy: 1.000, query accuracy: 0.997\n",
            "Start Validation...\n"
          ]
        },
        {
          "metadata": {
            "tags": null
          },
          "name": "stderr",
          "output_type": "stream",
          "text": [
            "<ipython-input-6-079f4bf87d5c>:27: DeprecationWarning: Starting with ImageIO v3 the behavior of this function will switch to that of iio.v3.imread. To keep the current behavior (and make this warning disappear) use `import imageio.v2 as imageio` or call `imageio.v2.imread` directly.\n",
            "  x = imageio.imread(file_path)\n",
            "<ipython-input-6-079f4bf87d5c>:27: DeprecationWarning: Starting with ImageIO v3 the behavior of this function will switch to that of iio.v3.imread. To keep the current behavior (and make this warning disappear) use `import imageio.v2 as imageio` or call `imageio.v2.imread` directly.\n",
            "  x = imageio.imread(file_path)\n"
          ]
        },
        {
          "metadata": {
            "tags": null
          },
          "name": "stdout",
          "output_type": "stream",
          "text": [
            "Validation: loss: 0.027, support accuracy: 0.998, query accuracy: 0.987\n",
            "Saved checkpoint.\n",
            "Iteration 1110: loss: 0.014, support accuracy: 0.997, query accuracy: 0.995\n",
            "Iteration 1120: loss: 0.007, support accuracy: 1.000, query accuracy: 0.995\n",
            "Iteration 1130: loss: 0.006, support accuracy: 0.995, query accuracy: 0.997\n",
            "Iteration 1140: loss: 0.007, support accuracy: 1.000, query accuracy: 0.997\n",
            "Iteration 1150: loss: 0.025, support accuracy: 1.000, query accuracy: 0.987\n",
            "Start Validation...\n"
          ]
        },
        {
          "metadata": {
            "tags": null
          },
          "name": "stderr",
          "output_type": "stream",
          "text": [
            "<ipython-input-6-079f4bf87d5c>:27: DeprecationWarning: Starting with ImageIO v3 the behavior of this function will switch to that of iio.v3.imread. To keep the current behavior (and make this warning disappear) use `import imageio.v2 as imageio` or call `imageio.v2.imread` directly.\n",
            "  x = imageio.imread(file_path)\n",
            "<ipython-input-6-079f4bf87d5c>:27: DeprecationWarning: Starting with ImageIO v3 the behavior of this function will switch to that of iio.v3.imread. To keep the current behavior (and make this warning disappear) use `import imageio.v2 as imageio` or call `imageio.v2.imread` directly.\n",
            "  x = imageio.imread(file_path)\n"
          ]
        },
        {
          "metadata": {
            "tags": null
          },
          "name": "stdout",
          "output_type": "stream",
          "text": [
            "Validation: loss: 0.023, support accuracy: 1.000, query accuracy: 0.992\n",
            "Iteration 1160: loss: 0.025, support accuracy: 1.000, query accuracy: 0.995\n",
            "Iteration 1170: loss: 0.044, support accuracy: 0.997, query accuracy: 0.987\n",
            "Iteration 1180: loss: 0.017, support accuracy: 1.000, query accuracy: 0.995\n",
            "Iteration 1190: loss: 0.011, support accuracy: 1.000, query accuracy: 0.997\n",
            "Iteration 1200: loss: 0.014, support accuracy: 1.000, query accuracy: 0.995\n",
            "Start Validation...\n"
          ]
        },
        {
          "metadata": {
            "tags": null
          },
          "name": "stderr",
          "output_type": "stream",
          "text": [
            "<ipython-input-6-079f4bf87d5c>:27: DeprecationWarning: Starting with ImageIO v3 the behavior of this function will switch to that of iio.v3.imread. To keep the current behavior (and make this warning disappear) use `import imageio.v2 as imageio` or call `imageio.v2.imread` directly.\n",
            "  x = imageio.imread(file_path)\n",
            "<ipython-input-6-079f4bf87d5c>:27: DeprecationWarning: Starting with ImageIO v3 the behavior of this function will switch to that of iio.v3.imread. To keep the current behavior (and make this warning disappear) use `import imageio.v2 as imageio` or call `imageio.v2.imread` directly.\n",
            "  x = imageio.imread(file_path)\n"
          ]
        },
        {
          "metadata": {
            "tags": null
          },
          "name": "stdout",
          "output_type": "stream",
          "text": [
            "Validation: loss: 0.023, support accuracy: 1.000, query accuracy: 0.992\n",
            "Saved checkpoint.\n",
            "Iteration 1210: loss: 0.027, support accuracy: 1.000, query accuracy: 0.992\n",
            "Iteration 1220: loss: 0.008, support accuracy: 1.000, query accuracy: 0.995\n",
            "Iteration 1230: loss: 0.022, support accuracy: 1.000, query accuracy: 0.995\n",
            "Iteration 1240: loss: 0.007, support accuracy: 1.000, query accuracy: 0.997\n",
            "Iteration 1250: loss: 0.029, support accuracy: 1.000, query accuracy: 0.995\n",
            "Start Validation...\n"
          ]
        },
        {
          "metadata": {
            "tags": null
          },
          "name": "stderr",
          "output_type": "stream",
          "text": [
            "<ipython-input-6-079f4bf87d5c>:27: DeprecationWarning: Starting with ImageIO v3 the behavior of this function will switch to that of iio.v3.imread. To keep the current behavior (and make this warning disappear) use `import imageio.v2 as imageio` or call `imageio.v2.imread` directly.\n",
            "  x = imageio.imread(file_path)\n",
            "<ipython-input-6-079f4bf87d5c>:27: DeprecationWarning: Starting with ImageIO v3 the behavior of this function will switch to that of iio.v3.imread. To keep the current behavior (and make this warning disappear) use `import imageio.v2 as imageio` or call `imageio.v2.imread` directly.\n",
            "  x = imageio.imread(file_path)\n"
          ]
        },
        {
          "metadata": {
            "tags": null
          },
          "name": "stdout",
          "output_type": "stream",
          "text": [
            "Validation: loss: 0.026, support accuracy: 0.999, query accuracy: 0.992\n",
            "Iteration 1260: loss: 0.012, support accuracy: 1.000, query accuracy: 0.995\n",
            "Iteration 1270: loss: 0.010, support accuracy: 1.000, query accuracy: 0.995\n",
            "Iteration 1280: loss: 0.007, support accuracy: 1.000, query accuracy: 0.995\n",
            "Iteration 1290: loss: 0.003, support accuracy: 1.000, query accuracy: 1.000\n",
            "Iteration 1300: loss: 0.012, support accuracy: 1.000, query accuracy: 0.995\n",
            "Start Validation...\n"
          ]
        },
        {
          "metadata": {
            "tags": null
          },
          "name": "stderr",
          "output_type": "stream",
          "text": [
            "<ipython-input-6-079f4bf87d5c>:27: DeprecationWarning: Starting with ImageIO v3 the behavior of this function will switch to that of iio.v3.imread. To keep the current behavior (and make this warning disappear) use `import imageio.v2 as imageio` or call `imageio.v2.imread` directly.\n",
            "  x = imageio.imread(file_path)\n",
            "<ipython-input-6-079f4bf87d5c>:27: DeprecationWarning: Starting with ImageIO v3 the behavior of this function will switch to that of iio.v3.imread. To keep the current behavior (and make this warning disappear) use `import imageio.v2 as imageio` or call `imageio.v2.imread` directly.\n",
            "  x = imageio.imread(file_path)\n"
          ]
        },
        {
          "metadata": {
            "tags": null
          },
          "name": "stdout",
          "output_type": "stream",
          "text": [
            "Validation: loss: 0.017, support accuracy: 1.000, query accuracy: 0.994\n",
            "Saved checkpoint.\n",
            "Iteration 1310: loss: 0.010, support accuracy: 1.000, query accuracy: 1.000\n",
            "Iteration 1320: loss: 0.007, support accuracy: 1.000, query accuracy: 0.995\n",
            "Iteration 1330: loss: 0.017, support accuracy: 1.000, query accuracy: 0.997\n",
            "Iteration 1340: loss: 0.049, support accuracy: 0.997, query accuracy: 0.972\n",
            "Iteration 1350: loss: 0.007, support accuracy: 1.000, query accuracy: 0.997\n",
            "Start Validation...\n"
          ]
        },
        {
          "metadata": {
            "tags": null
          },
          "name": "stderr",
          "output_type": "stream",
          "text": [
            "<ipython-input-6-079f4bf87d5c>:27: DeprecationWarning: Starting with ImageIO v3 the behavior of this function will switch to that of iio.v3.imread. To keep the current behavior (and make this warning disappear) use `import imageio.v2 as imageio` or call `imageio.v2.imread` directly.\n",
            "  x = imageio.imread(file_path)\n",
            "<ipython-input-6-079f4bf87d5c>:27: DeprecationWarning: Starting with ImageIO v3 the behavior of this function will switch to that of iio.v3.imread. To keep the current behavior (and make this warning disappear) use `import imageio.v2 as imageio` or call `imageio.v2.imread` directly.\n",
            "  x = imageio.imread(file_path)\n"
          ]
        },
        {
          "metadata": {
            "tags": null
          },
          "name": "stdout",
          "output_type": "stream",
          "text": [
            "Validation: loss: 0.030, support accuracy: 0.999, query accuracy: 0.988\n",
            "Iteration 1360: loss: 0.016, support accuracy: 0.997, query accuracy: 0.995\n",
            "Iteration 1370: loss: 0.014, support accuracy: 1.000, query accuracy: 0.995\n",
            "Iteration 1380: loss: 0.011, support accuracy: 1.000, query accuracy: 0.997\n",
            "Iteration 1390: loss: 0.006, support accuracy: 1.000, query accuracy: 0.997\n",
            "Iteration 1400: loss: 0.005, support accuracy: 1.000, query accuracy: 0.997\n",
            "Start Validation...\n"
          ]
        },
        {
          "metadata": {
            "tags": null
          },
          "name": "stderr",
          "output_type": "stream",
          "text": [
            "<ipython-input-6-079f4bf87d5c>:27: DeprecationWarning: Starting with ImageIO v3 the behavior of this function will switch to that of iio.v3.imread. To keep the current behavior (and make this warning disappear) use `import imageio.v2 as imageio` or call `imageio.v2.imread` directly.\n",
            "  x = imageio.imread(file_path)\n",
            "<ipython-input-6-079f4bf87d5c>:27: DeprecationWarning: Starting with ImageIO v3 the behavior of this function will switch to that of iio.v3.imread. To keep the current behavior (and make this warning disappear) use `import imageio.v2 as imageio` or call `imageio.v2.imread` directly.\n",
            "  x = imageio.imread(file_path)\n"
          ]
        },
        {
          "metadata": {
            "tags": null
          },
          "name": "stdout",
          "output_type": "stream",
          "text": [
            "Validation: loss: 0.020, support accuracy: 0.999, query accuracy: 0.995\n",
            "Saved checkpoint.\n",
            "Iteration 1410: loss: 0.029, support accuracy: 1.000, query accuracy: 0.992\n",
            "Iteration 1420: loss: 0.006, support accuracy: 1.000, query accuracy: 1.000\n",
            "Iteration 1430: loss: 0.002, support accuracy: 1.000, query accuracy: 1.000\n",
            "Iteration 1440: loss: 0.013, support accuracy: 1.000, query accuracy: 0.995\n",
            "Iteration 1450: loss: 0.006, support accuracy: 1.000, query accuracy: 1.000\n",
            "Start Validation...\n"
          ]
        },
        {
          "metadata": {
            "tags": null
          },
          "name": "stderr",
          "output_type": "stream",
          "text": [
            "<ipython-input-6-079f4bf87d5c>:27: DeprecationWarning: Starting with ImageIO v3 the behavior of this function will switch to that of iio.v3.imread. To keep the current behavior (and make this warning disappear) use `import imageio.v2 as imageio` or call `imageio.v2.imread` directly.\n",
            "  x = imageio.imread(file_path)\n",
            "<ipython-input-6-079f4bf87d5c>:27: DeprecationWarning: Starting with ImageIO v3 the behavior of this function will switch to that of iio.v3.imread. To keep the current behavior (and make this warning disappear) use `import imageio.v2 as imageio` or call `imageio.v2.imread` directly.\n",
            "  x = imageio.imread(file_path)\n"
          ]
        },
        {
          "metadata": {
            "tags": null
          },
          "name": "stdout",
          "output_type": "stream",
          "text": [
            "Validation: loss: 0.022, support accuracy: 0.999, query accuracy: 0.991\n",
            "Iteration 1460: loss: 0.004, support accuracy: 1.000, query accuracy: 1.000\n",
            "Iteration 1470: loss: 0.013, support accuracy: 1.000, query accuracy: 0.995\n",
            "Iteration 1480: loss: 0.034, support accuracy: 1.000, query accuracy: 0.985\n",
            "Iteration 1490: loss: 0.043, support accuracy: 0.997, query accuracy: 0.985\n",
            "Iteration 1500: loss: 0.015, support accuracy: 1.000, query accuracy: 0.997\n",
            "Start Validation...\n"
          ]
        },
        {
          "metadata": {
            "tags": null
          },
          "name": "stderr",
          "output_type": "stream",
          "text": [
            "<ipython-input-6-079f4bf87d5c>:27: DeprecationWarning: Starting with ImageIO v3 the behavior of this function will switch to that of iio.v3.imread. To keep the current behavior (and make this warning disappear) use `import imageio.v2 as imageio` or call `imageio.v2.imread` directly.\n",
            "  x = imageio.imread(file_path)\n",
            "<ipython-input-6-079f4bf87d5c>:27: DeprecationWarning: Starting with ImageIO v3 the behavior of this function will switch to that of iio.v3.imread. To keep the current behavior (and make this warning disappear) use `import imageio.v2 as imageio` or call `imageio.v2.imread` directly.\n",
            "  x = imageio.imread(file_path)\n"
          ]
        },
        {
          "metadata": {
            "tags": null
          },
          "name": "stdout",
          "output_type": "stream",
          "text": [
            "Validation: loss: 0.038, support accuracy: 1.000, query accuracy: 0.992\n",
            "Saved checkpoint.\n",
            "Iteration 1510: loss: 0.029, support accuracy: 0.997, query accuracy: 0.987\n",
            "Iteration 1520: loss: 0.050, support accuracy: 0.995, query accuracy: 0.980\n",
            "Iteration 1530: loss: 0.013, support accuracy: 1.000, query accuracy: 0.995\n",
            "Iteration 1540: loss: 0.020, support accuracy: 1.000, query accuracy: 0.987\n",
            "Iteration 1550: loss: 0.007, support accuracy: 1.000, query accuracy: 0.995\n",
            "Start Validation...\n"
          ]
        },
        {
          "metadata": {
            "tags": null
          },
          "name": "stderr",
          "output_type": "stream",
          "text": [
            "<ipython-input-6-079f4bf87d5c>:27: DeprecationWarning: Starting with ImageIO v3 the behavior of this function will switch to that of iio.v3.imread. To keep the current behavior (and make this warning disappear) use `import imageio.v2 as imageio` or call `imageio.v2.imread` directly.\n",
            "  x = imageio.imread(file_path)\n",
            "<ipython-input-6-079f4bf87d5c>:27: DeprecationWarning: Starting with ImageIO v3 the behavior of this function will switch to that of iio.v3.imread. To keep the current behavior (and make this warning disappear) use `import imageio.v2 as imageio` or call `imageio.v2.imread` directly.\n",
            "  x = imageio.imread(file_path)\n"
          ]
        },
        {
          "metadata": {
            "tags": null
          },
          "name": "stdout",
          "output_type": "stream",
          "text": [
            "Validation: loss: 0.032, support accuracy: 0.999, query accuracy: 0.991\n",
            "Iteration 1560: loss: 0.020, support accuracy: 1.000, query accuracy: 0.997\n",
            "Iteration 1570: loss: 0.002, support accuracy: 0.997, query accuracy: 1.000\n",
            "Iteration 1580: loss: 0.013, support accuracy: 1.000, query accuracy: 0.997\n",
            "Iteration 1590: loss: 0.038, support accuracy: 0.997, query accuracy: 0.987\n",
            "Iteration 1600: loss: 0.005, support accuracy: 1.000, query accuracy: 0.997\n",
            "Start Validation...\n"
          ]
        },
        {
          "metadata": {
            "tags": null
          },
          "name": "stderr",
          "output_type": "stream",
          "text": [
            "<ipython-input-6-079f4bf87d5c>:27: DeprecationWarning: Starting with ImageIO v3 the behavior of this function will switch to that of iio.v3.imread. To keep the current behavior (and make this warning disappear) use `import imageio.v2 as imageio` or call `imageio.v2.imread` directly.\n",
            "  x = imageio.imread(file_path)\n",
            "<ipython-input-6-079f4bf87d5c>:27: DeprecationWarning: Starting with ImageIO v3 the behavior of this function will switch to that of iio.v3.imread. To keep the current behavior (and make this warning disappear) use `import imageio.v2 as imageio` or call `imageio.v2.imread` directly.\n",
            "  x = imageio.imread(file_path)\n"
          ]
        },
        {
          "metadata": {
            "tags": null
          },
          "name": "stdout",
          "output_type": "stream",
          "text": [
            "Validation: loss: 0.025, support accuracy: 1.000, query accuracy: 0.991\n",
            "Saved checkpoint.\n",
            "Iteration 1610: loss: 0.018, support accuracy: 1.000, query accuracy: 0.992\n",
            "Iteration 1620: loss: 0.010, support accuracy: 1.000, query accuracy: 0.997\n",
            "Iteration 1630: loss: 0.003, support accuracy: 1.000, query accuracy: 1.000\n",
            "Iteration 1640: loss: 0.005, support accuracy: 1.000, query accuracy: 1.000\n",
            "Iteration 1650: loss: 0.004, support accuracy: 0.997, query accuracy: 1.000\n",
            "Start Validation...\n"
          ]
        },
        {
          "metadata": {
            "tags": null
          },
          "name": "stderr",
          "output_type": "stream",
          "text": [
            "<ipython-input-6-079f4bf87d5c>:27: DeprecationWarning: Starting with ImageIO v3 the behavior of this function will switch to that of iio.v3.imread. To keep the current behavior (and make this warning disappear) use `import imageio.v2 as imageio` or call `imageio.v2.imread` directly.\n",
            "  x = imageio.imread(file_path)\n",
            "<ipython-input-6-079f4bf87d5c>:27: DeprecationWarning: Starting with ImageIO v3 the behavior of this function will switch to that of iio.v3.imread. To keep the current behavior (and make this warning disappear) use `import imageio.v2 as imageio` or call `imageio.v2.imread` directly.\n",
            "  x = imageio.imread(file_path)\n"
          ]
        },
        {
          "metadata": {
            "tags": null
          },
          "name": "stdout",
          "output_type": "stream",
          "text": [
            "Validation: loss: 0.036, support accuracy: 0.997, query accuracy: 0.991\n",
            "Iteration 1660: loss: 0.016, support accuracy: 1.000, query accuracy: 0.995\n",
            "Iteration 1670: loss: 0.024, support accuracy: 1.000, query accuracy: 0.990\n",
            "Iteration 1680: loss: 0.002, support accuracy: 1.000, query accuracy: 1.000\n",
            "Iteration 1690: loss: 0.006, support accuracy: 1.000, query accuracy: 1.000\n",
            "Iteration 1700: loss: 0.008, support accuracy: 1.000, query accuracy: 0.997\n",
            "Start Validation...\n"
          ]
        },
        {
          "metadata": {
            "tags": null
          },
          "name": "stderr",
          "output_type": "stream",
          "text": [
            "<ipython-input-6-079f4bf87d5c>:27: DeprecationWarning: Starting with ImageIO v3 the behavior of this function will switch to that of iio.v3.imread. To keep the current behavior (and make this warning disappear) use `import imageio.v2 as imageio` or call `imageio.v2.imread` directly.\n",
            "  x = imageio.imread(file_path)\n",
            "<ipython-input-6-079f4bf87d5c>:27: DeprecationWarning: Starting with ImageIO v3 the behavior of this function will switch to that of iio.v3.imread. To keep the current behavior (and make this warning disappear) use `import imageio.v2 as imageio` or call `imageio.v2.imread` directly.\n",
            "  x = imageio.imread(file_path)\n"
          ]
        },
        {
          "metadata": {
            "tags": null
          },
          "name": "stdout",
          "output_type": "stream",
          "text": [
            "Validation: loss: 0.033, support accuracy: 0.999, query accuracy: 0.991\n",
            "Saved checkpoint.\n",
            "Iteration 1710: loss: 0.026, support accuracy: 1.000, query accuracy: 0.995\n",
            "Iteration 1720: loss: 0.009, support accuracy: 1.000, query accuracy: 0.995\n",
            "Iteration 1730: loss: 0.002, support accuracy: 0.997, query accuracy: 1.000\n",
            "Iteration 1740: loss: 0.002, support accuracy: 1.000, query accuracy: 1.000\n",
            "Iteration 1750: loss: 0.005, support accuracy: 1.000, query accuracy: 0.997\n",
            "Start Validation...\n"
          ]
        },
        {
          "metadata": {
            "tags": null
          },
          "name": "stderr",
          "output_type": "stream",
          "text": [
            "<ipython-input-6-079f4bf87d5c>:27: DeprecationWarning: Starting with ImageIO v3 the behavior of this function will switch to that of iio.v3.imread. To keep the current behavior (and make this warning disappear) use `import imageio.v2 as imageio` or call `imageio.v2.imread` directly.\n",
            "  x = imageio.imread(file_path)\n",
            "<ipython-input-6-079f4bf87d5c>:27: DeprecationWarning: Starting with ImageIO v3 the behavior of this function will switch to that of iio.v3.imread. To keep the current behavior (and make this warning disappear) use `import imageio.v2 as imageio` or call `imageio.v2.imread` directly.\n",
            "  x = imageio.imread(file_path)\n"
          ]
        },
        {
          "metadata": {
            "tags": null
          },
          "name": "stdout",
          "output_type": "stream",
          "text": [
            "Validation: loss: 0.011, support accuracy: 1.000, query accuracy: 0.996\n",
            "Iteration 1760: loss: 0.020, support accuracy: 1.000, query accuracy: 0.997\n",
            "Iteration 1770: loss: 0.024, support accuracy: 0.997, query accuracy: 0.982\n",
            "Iteration 1780: loss: 0.012, support accuracy: 1.000, query accuracy: 0.995\n",
            "Iteration 1790: loss: 0.018, support accuracy: 0.997, query accuracy: 0.992\n",
            "Iteration 1800: loss: 0.026, support accuracy: 1.000, query accuracy: 0.997\n",
            "Start Validation...\n"
          ]
        },
        {
          "metadata": {
            "tags": null
          },
          "name": "stderr",
          "output_type": "stream",
          "text": [
            "<ipython-input-6-079f4bf87d5c>:27: DeprecationWarning: Starting with ImageIO v3 the behavior of this function will switch to that of iio.v3.imread. To keep the current behavior (and make this warning disappear) use `import imageio.v2 as imageio` or call `imageio.v2.imread` directly.\n",
            "  x = imageio.imread(file_path)\n",
            "<ipython-input-6-079f4bf87d5c>:27: DeprecationWarning: Starting with ImageIO v3 the behavior of this function will switch to that of iio.v3.imread. To keep the current behavior (and make this warning disappear) use `import imageio.v2 as imageio` or call `imageio.v2.imread` directly.\n",
            "  x = imageio.imread(file_path)\n"
          ]
        },
        {
          "metadata": {
            "tags": null
          },
          "name": "stdout",
          "output_type": "stream",
          "text": [
            "Validation: loss: 0.009, support accuracy: 0.999, query accuracy: 0.997\n",
            "Saved checkpoint.\n",
            "Iteration 1810: loss: 0.003, support accuracy: 1.000, query accuracy: 1.000\n",
            "Iteration 1820: loss: 0.013, support accuracy: 0.997, query accuracy: 0.992\n",
            "Iteration 1830: loss: 0.006, support accuracy: 1.000, query accuracy: 0.997\n",
            "Iteration 1840: loss: 0.003, support accuracy: 1.000, query accuracy: 0.997\n",
            "Iteration 1850: loss: 0.012, support accuracy: 1.000, query accuracy: 0.992\n",
            "Start Validation...\n"
          ]
        },
        {
          "metadata": {
            "tags": null
          },
          "name": "stderr",
          "output_type": "stream",
          "text": [
            "<ipython-input-6-079f4bf87d5c>:27: DeprecationWarning: Starting with ImageIO v3 the behavior of this function will switch to that of iio.v3.imread. To keep the current behavior (and make this warning disappear) use `import imageio.v2 as imageio` or call `imageio.v2.imread` directly.\n",
            "  x = imageio.imread(file_path)\n",
            "<ipython-input-6-079f4bf87d5c>:27: DeprecationWarning: Starting with ImageIO v3 the behavior of this function will switch to that of iio.v3.imread. To keep the current behavior (and make this warning disappear) use `import imageio.v2 as imageio` or call `imageio.v2.imread` directly.\n",
            "  x = imageio.imread(file_path)\n"
          ]
        },
        {
          "metadata": {
            "tags": null
          },
          "name": "stdout",
          "output_type": "stream",
          "text": [
            "Validation: loss: 0.018, support accuracy: 0.999, query accuracy: 0.994\n",
            "Iteration 1860: loss: 0.023, support accuracy: 0.997, query accuracy: 0.990\n",
            "Iteration 1870: loss: 0.020, support accuracy: 1.000, query accuracy: 0.995\n",
            "Iteration 1880: loss: 0.007, support accuracy: 1.000, query accuracy: 0.997\n",
            "Iteration 1890: loss: 0.003, support accuracy: 1.000, query accuracy: 0.997\n",
            "Iteration 1900: loss: 0.001, support accuracy: 1.000, query accuracy: 1.000\n",
            "Start Validation...\n"
          ]
        },
        {
          "metadata": {
            "tags": null
          },
          "name": "stderr",
          "output_type": "stream",
          "text": [
            "<ipython-input-6-079f4bf87d5c>:27: DeprecationWarning: Starting with ImageIO v3 the behavior of this function will switch to that of iio.v3.imread. To keep the current behavior (and make this warning disappear) use `import imageio.v2 as imageio` or call `imageio.v2.imread` directly.\n",
            "  x = imageio.imread(file_path)\n",
            "<ipython-input-6-079f4bf87d5c>:27: DeprecationWarning: Starting with ImageIO v3 the behavior of this function will switch to that of iio.v3.imread. To keep the current behavior (and make this warning disappear) use `import imageio.v2 as imageio` or call `imageio.v2.imread` directly.\n",
            "  x = imageio.imread(file_path)\n"
          ]
        },
        {
          "metadata": {
            "tags": null
          },
          "name": "stdout",
          "output_type": "stream",
          "text": [
            "Validation: loss: 0.041, support accuracy: 0.999, query accuracy: 0.987\n",
            "Saved checkpoint.\n",
            "Iteration 1910: loss: 0.003, support accuracy: 1.000, query accuracy: 1.000\n",
            "Iteration 1920: loss: 0.012, support accuracy: 1.000, query accuracy: 0.995\n",
            "Iteration 1930: loss: 0.004, support accuracy: 1.000, query accuracy: 0.997\n",
            "Iteration 1940: loss: 0.015, support accuracy: 1.000, query accuracy: 0.995\n",
            "Iteration 1950: loss: 0.008, support accuracy: 1.000, query accuracy: 0.997\n",
            "Start Validation...\n"
          ]
        },
        {
          "metadata": {
            "tags": null
          },
          "name": "stderr",
          "output_type": "stream",
          "text": [
            "<ipython-input-6-079f4bf87d5c>:27: DeprecationWarning: Starting with ImageIO v3 the behavior of this function will switch to that of iio.v3.imread. To keep the current behavior (and make this warning disappear) use `import imageio.v2 as imageio` or call `imageio.v2.imread` directly.\n",
            "  x = imageio.imread(file_path)\n",
            "<ipython-input-6-079f4bf87d5c>:27: DeprecationWarning: Starting with ImageIO v3 the behavior of this function will switch to that of iio.v3.imread. To keep the current behavior (and make this warning disappear) use `import imageio.v2 as imageio` or call `imageio.v2.imread` directly.\n",
            "  x = imageio.imread(file_path)\n"
          ]
        },
        {
          "metadata": {
            "tags": null
          },
          "name": "stdout",
          "output_type": "stream",
          "text": [
            "Validation: loss: 0.043, support accuracy: 1.000, query accuracy: 0.987\n",
            "Iteration 1960: loss: 0.009, support accuracy: 0.997, query accuracy: 0.997\n",
            "Iteration 1970: loss: 0.006, support accuracy: 1.000, query accuracy: 0.997\n",
            "Iteration 1980: loss: 0.003, support accuracy: 0.997, query accuracy: 1.000\n",
            "Iteration 1990: loss: 0.013, support accuracy: 1.000, query accuracy: 0.995\n",
            "Iteration 2000: loss: 0.021, support accuracy: 0.997, query accuracy: 0.990\n",
            "Start Validation...\n"
          ]
        },
        {
          "metadata": {
            "tags": null
          },
          "name": "stderr",
          "output_type": "stream",
          "text": [
            "<ipython-input-6-079f4bf87d5c>:27: DeprecationWarning: Starting with ImageIO v3 the behavior of this function will switch to that of iio.v3.imread. To keep the current behavior (and make this warning disappear) use `import imageio.v2 as imageio` or call `imageio.v2.imread` directly.\n",
            "  x = imageio.imread(file_path)\n",
            "<ipython-input-6-079f4bf87d5c>:27: DeprecationWarning: Starting with ImageIO v3 the behavior of this function will switch to that of iio.v3.imread. To keep the current behavior (and make this warning disappear) use `import imageio.v2 as imageio` or call `imageio.v2.imread` directly.\n",
            "  x = imageio.imread(file_path)\n"
          ]
        },
        {
          "metadata": {
            "tags": null
          },
          "name": "stdout",
          "output_type": "stream",
          "text": [
            "Validation: loss: 0.024, support accuracy: 0.999, query accuracy: 0.994\n",
            "Saved checkpoint.\n",
            "Iteration 2010: loss: 0.003, support accuracy: 1.000, query accuracy: 1.000\n",
            "Iteration 2020: loss: 0.002, support accuracy: 1.000, query accuracy: 1.000\n",
            "Iteration 2030: loss: 0.002, support accuracy: 1.000, query accuracy: 1.000\n",
            "Iteration 2040: loss: 0.010, support accuracy: 1.000, query accuracy: 0.995\n",
            "Iteration 2050: loss: 0.003, support accuracy: 1.000, query accuracy: 0.997\n",
            "Start Validation...\n"
          ]
        },
        {
          "metadata": {
            "tags": null
          },
          "name": "stderr",
          "output_type": "stream",
          "text": [
            "<ipython-input-6-079f4bf87d5c>:27: DeprecationWarning: Starting with ImageIO v3 the behavior of this function will switch to that of iio.v3.imread. To keep the current behavior (and make this warning disappear) use `import imageio.v2 as imageio` or call `imageio.v2.imread` directly.\n",
            "  x = imageio.imread(file_path)\n",
            "<ipython-input-6-079f4bf87d5c>:27: DeprecationWarning: Starting with ImageIO v3 the behavior of this function will switch to that of iio.v3.imread. To keep the current behavior (and make this warning disappear) use `import imageio.v2 as imageio` or call `imageio.v2.imread` directly.\n",
            "  x = imageio.imread(file_path)\n"
          ]
        },
        {
          "metadata": {
            "tags": null
          },
          "name": "stdout",
          "output_type": "stream",
          "text": [
            "Validation: loss: 0.029, support accuracy: 0.999, query accuracy: 0.988\n",
            "Iteration 2060: loss: 0.009, support accuracy: 1.000, query accuracy: 0.995\n",
            "Iteration 2070: loss: 0.012, support accuracy: 1.000, query accuracy: 0.997\n",
            "Iteration 2080: loss: 0.004, support accuracy: 1.000, query accuracy: 1.000\n",
            "Iteration 2090: loss: 0.024, support accuracy: 1.000, query accuracy: 0.990\n",
            "Iteration 2100: loss: 0.012, support accuracy: 1.000, query accuracy: 0.995\n",
            "Start Validation...\n"
          ]
        },
        {
          "metadata": {
            "tags": null
          },
          "name": "stderr",
          "output_type": "stream",
          "text": [
            "<ipython-input-6-079f4bf87d5c>:27: DeprecationWarning: Starting with ImageIO v3 the behavior of this function will switch to that of iio.v3.imread. To keep the current behavior (and make this warning disappear) use `import imageio.v2 as imageio` or call `imageio.v2.imread` directly.\n",
            "  x = imageio.imread(file_path)\n",
            "<ipython-input-6-079f4bf87d5c>:27: DeprecationWarning: Starting with ImageIO v3 the behavior of this function will switch to that of iio.v3.imread. To keep the current behavior (and make this warning disappear) use `import imageio.v2 as imageio` or call `imageio.v2.imread` directly.\n",
            "  x = imageio.imread(file_path)\n"
          ]
        },
        {
          "metadata": {
            "tags": null
          },
          "name": "stdout",
          "output_type": "stream",
          "text": [
            "Validation: loss: 0.021, support accuracy: 1.000, query accuracy: 0.993\n",
            "Saved checkpoint.\n",
            "Iteration 2110: loss: 0.020, support accuracy: 1.000, query accuracy: 0.997\n",
            "Iteration 2120: loss: 0.004, support accuracy: 0.997, query accuracy: 1.000\n",
            "Iteration 2130: loss: 0.029, support accuracy: 1.000, query accuracy: 0.990\n",
            "Iteration 2140: loss: 0.036, support accuracy: 1.000, query accuracy: 0.987\n",
            "Iteration 2150: loss: 0.013, support accuracy: 1.000, query accuracy: 0.997\n",
            "Start Validation...\n"
          ]
        },
        {
          "metadata": {
            "tags": null
          },
          "name": "stderr",
          "output_type": "stream",
          "text": [
            "<ipython-input-6-079f4bf87d5c>:27: DeprecationWarning: Starting with ImageIO v3 the behavior of this function will switch to that of iio.v3.imread. To keep the current behavior (and make this warning disappear) use `import imageio.v2 as imageio` or call `imageio.v2.imread` directly.\n",
            "  x = imageio.imread(file_path)\n",
            "<ipython-input-6-079f4bf87d5c>:27: DeprecationWarning: Starting with ImageIO v3 the behavior of this function will switch to that of iio.v3.imread. To keep the current behavior (and make this warning disappear) use `import imageio.v2 as imageio` or call `imageio.v2.imread` directly.\n",
            "  x = imageio.imread(file_path)\n"
          ]
        },
        {
          "metadata": {
            "tags": null
          },
          "name": "stdout",
          "output_type": "stream",
          "text": [
            "Validation: loss: 0.027, support accuracy: 0.999, query accuracy: 0.992\n",
            "Iteration 2160: loss: 0.041, support accuracy: 0.997, query accuracy: 0.992\n",
            "Iteration 2170: loss: 0.029, support accuracy: 0.997, query accuracy: 0.990\n",
            "Iteration 2180: loss: 0.008, support accuracy: 1.000, query accuracy: 0.997\n",
            "Iteration 2190: loss: 0.001, support accuracy: 1.000, query accuracy: 1.000\n",
            "Iteration 2200: loss: 0.001, support accuracy: 1.000, query accuracy: 1.000\n",
            "Start Validation...\n"
          ]
        },
        {
          "metadata": {
            "tags": null
          },
          "name": "stderr",
          "output_type": "stream",
          "text": [
            "<ipython-input-6-079f4bf87d5c>:27: DeprecationWarning: Starting with ImageIO v3 the behavior of this function will switch to that of iio.v3.imread. To keep the current behavior (and make this warning disappear) use `import imageio.v2 as imageio` or call `imageio.v2.imread` directly.\n",
            "  x = imageio.imread(file_path)\n",
            "<ipython-input-6-079f4bf87d5c>:27: DeprecationWarning: Starting with ImageIO v3 the behavior of this function will switch to that of iio.v3.imread. To keep the current behavior (and make this warning disappear) use `import imageio.v2 as imageio` or call `imageio.v2.imread` directly.\n",
            "  x = imageio.imread(file_path)\n"
          ]
        },
        {
          "metadata": {
            "tags": null
          },
          "name": "stdout",
          "output_type": "stream",
          "text": [
            "Validation: loss: 0.014, support accuracy: 0.999, query accuracy: 0.995\n",
            "Saved checkpoint.\n",
            "Iteration 2210: loss: 0.001, support accuracy: 1.000, query accuracy: 1.000\n",
            "Iteration 2220: loss: 0.005, support accuracy: 1.000, query accuracy: 0.997\n",
            "Iteration 2230: loss: 0.003, support accuracy: 1.000, query accuracy: 1.000\n",
            "Iteration 2240: loss: 0.001, support accuracy: 1.000, query accuracy: 1.000\n",
            "Iteration 2250: loss: 0.010, support accuracy: 0.997, query accuracy: 0.997\n",
            "Start Validation...\n"
          ]
        },
        {
          "metadata": {
            "tags": null
          },
          "name": "stderr",
          "output_type": "stream",
          "text": [
            "<ipython-input-6-079f4bf87d5c>:27: DeprecationWarning: Starting with ImageIO v3 the behavior of this function will switch to that of iio.v3.imread. To keep the current behavior (and make this warning disappear) use `import imageio.v2 as imageio` or call `imageio.v2.imread` directly.\n",
            "  x = imageio.imread(file_path)\n",
            "<ipython-input-6-079f4bf87d5c>:27: DeprecationWarning: Starting with ImageIO v3 the behavior of this function will switch to that of iio.v3.imread. To keep the current behavior (and make this warning disappear) use `import imageio.v2 as imageio` or call `imageio.v2.imread` directly.\n",
            "  x = imageio.imread(file_path)\n"
          ]
        },
        {
          "metadata": {
            "tags": null
          },
          "name": "stdout",
          "output_type": "stream",
          "text": [
            "Validation: loss: 0.038, support accuracy: 0.999, query accuracy: 0.990\n",
            "Iteration 2260: loss: 0.020, support accuracy: 0.997, query accuracy: 0.995\n",
            "Iteration 2270: loss: 0.017, support accuracy: 1.000, query accuracy: 0.992\n",
            "Iteration 2280: loss: 0.001, support accuracy: 1.000, query accuracy: 1.000\n",
            "Iteration 2290: loss: 0.029, support accuracy: 0.995, query accuracy: 0.990\n",
            "Iteration 2300: loss: 0.000, support accuracy: 1.000, query accuracy: 1.000\n",
            "Start Validation...\n"
          ]
        },
        {
          "metadata": {
            "tags": null
          },
          "name": "stderr",
          "output_type": "stream",
          "text": [
            "<ipython-input-6-079f4bf87d5c>:27: DeprecationWarning: Starting with ImageIO v3 the behavior of this function will switch to that of iio.v3.imread. To keep the current behavior (and make this warning disappear) use `import imageio.v2 as imageio` or call `imageio.v2.imread` directly.\n",
            "  x = imageio.imread(file_path)\n",
            "<ipython-input-6-079f4bf87d5c>:27: DeprecationWarning: Starting with ImageIO v3 the behavior of this function will switch to that of iio.v3.imread. To keep the current behavior (and make this warning disappear) use `import imageio.v2 as imageio` or call `imageio.v2.imread` directly.\n",
            "  x = imageio.imread(file_path)\n"
          ]
        },
        {
          "metadata": {
            "tags": null
          },
          "name": "stdout",
          "output_type": "stream",
          "text": [
            "Validation: loss: 0.015, support accuracy: 1.000, query accuracy: 0.995\n",
            "Saved checkpoint.\n",
            "Iteration 2310: loss: 0.017, support accuracy: 0.997, query accuracy: 0.995\n",
            "Iteration 2320: loss: 0.008, support accuracy: 1.000, query accuracy: 0.997\n",
            "Iteration 2330: loss: 0.011, support accuracy: 0.997, query accuracy: 0.995\n",
            "Iteration 2340: loss: 0.000, support accuracy: 1.000, query accuracy: 1.000\n",
            "Iteration 2350: loss: 0.002, support accuracy: 1.000, query accuracy: 1.000\n",
            "Start Validation...\n"
          ]
        },
        {
          "metadata": {
            "tags": null
          },
          "name": "stderr",
          "output_type": "stream",
          "text": [
            "<ipython-input-6-079f4bf87d5c>:27: DeprecationWarning: Starting with ImageIO v3 the behavior of this function will switch to that of iio.v3.imread. To keep the current behavior (and make this warning disappear) use `import imageio.v2 as imageio` or call `imageio.v2.imread` directly.\n",
            "  x = imageio.imread(file_path)\n",
            "<ipython-input-6-079f4bf87d5c>:27: DeprecationWarning: Starting with ImageIO v3 the behavior of this function will switch to that of iio.v3.imread. To keep the current behavior (and make this warning disappear) use `import imageio.v2 as imageio` or call `imageio.v2.imread` directly.\n",
            "  x = imageio.imread(file_path)\n"
          ]
        },
        {
          "metadata": {
            "tags": null
          },
          "name": "stdout",
          "output_type": "stream",
          "text": [
            "Validation: loss: 0.034, support accuracy: 1.000, query accuracy: 0.991\n",
            "Iteration 2360: loss: 0.008, support accuracy: 1.000, query accuracy: 0.997\n",
            "Iteration 2370: loss: 0.009, support accuracy: 0.997, query accuracy: 0.997\n",
            "Iteration 2380: loss: 0.003, support accuracy: 1.000, query accuracy: 1.000\n",
            "Iteration 2390: loss: 0.002, support accuracy: 1.000, query accuracy: 1.000\n",
            "Iteration 2400: loss: 0.002, support accuracy: 1.000, query accuracy: 1.000\n",
            "Start Validation...\n"
          ]
        },
        {
          "metadata": {
            "tags": null
          },
          "name": "stderr",
          "output_type": "stream",
          "text": [
            "<ipython-input-6-079f4bf87d5c>:27: DeprecationWarning: Starting with ImageIO v3 the behavior of this function will switch to that of iio.v3.imread. To keep the current behavior (and make this warning disappear) use `import imageio.v2 as imageio` or call `imageio.v2.imread` directly.\n",
            "  x = imageio.imread(file_path)\n",
            "<ipython-input-6-079f4bf87d5c>:27: DeprecationWarning: Starting with ImageIO v3 the behavior of this function will switch to that of iio.v3.imread. To keep the current behavior (and make this warning disappear) use `import imageio.v2 as imageio` or call `imageio.v2.imread` directly.\n",
            "  x = imageio.imread(file_path)\n"
          ]
        },
        {
          "metadata": {
            "tags": null
          },
          "name": "stdout",
          "output_type": "stream",
          "text": [
            "Validation: loss: 0.014, support accuracy: 1.000, query accuracy: 0.996\n",
            "Saved checkpoint.\n",
            "Iteration 2410: loss: 0.001, support accuracy: 1.000, query accuracy: 1.000\n",
            "Iteration 2420: loss: 0.004, support accuracy: 1.000, query accuracy: 1.000\n",
            "Iteration 2430: loss: 0.009, support accuracy: 1.000, query accuracy: 0.995\n",
            "Iteration 2440: loss: 0.020, support accuracy: 0.997, query accuracy: 0.997\n",
            "Iteration 2450: loss: 0.004, support accuracy: 1.000, query accuracy: 0.997\n",
            "Start Validation...\n"
          ]
        },
        {
          "metadata": {
            "tags": null
          },
          "name": "stderr",
          "output_type": "stream",
          "text": [
            "<ipython-input-6-079f4bf87d5c>:27: DeprecationWarning: Starting with ImageIO v3 the behavior of this function will switch to that of iio.v3.imread. To keep the current behavior (and make this warning disappear) use `import imageio.v2 as imageio` or call `imageio.v2.imread` directly.\n",
            "  x = imageio.imread(file_path)\n",
            "<ipython-input-6-079f4bf87d5c>:27: DeprecationWarning: Starting with ImageIO v3 the behavior of this function will switch to that of iio.v3.imread. To keep the current behavior (and make this warning disappear) use `import imageio.v2 as imageio` or call `imageio.v2.imread` directly.\n",
            "  x = imageio.imread(file_path)\n"
          ]
        },
        {
          "metadata": {
            "tags": null
          },
          "name": "stdout",
          "output_type": "stream",
          "text": [
            "Validation: loss: 0.023, support accuracy: 1.000, query accuracy: 0.995\n",
            "Iteration 2460: loss: 0.020, support accuracy: 1.000, query accuracy: 0.995\n",
            "Iteration 2470: loss: 0.005, support accuracy: 1.000, query accuracy: 0.997\n",
            "Iteration 2480: loss: 0.017, support accuracy: 1.000, query accuracy: 0.997\n",
            "Iteration 2490: loss: 0.010, support accuracy: 1.000, query accuracy: 0.995\n",
            "Iteration 2500: loss: 0.027, support accuracy: 1.000, query accuracy: 0.995\n",
            "Start Validation...\n"
          ]
        },
        {
          "metadata": {
            "tags": null
          },
          "name": "stderr",
          "output_type": "stream",
          "text": [
            "<ipython-input-6-079f4bf87d5c>:27: DeprecationWarning: Starting with ImageIO v3 the behavior of this function will switch to that of iio.v3.imread. To keep the current behavior (and make this warning disappear) use `import imageio.v2 as imageio` or call `imageio.v2.imread` directly.\n",
            "  x = imageio.imread(file_path)\n",
            "<ipython-input-6-079f4bf87d5c>:27: DeprecationWarning: Starting with ImageIO v3 the behavior of this function will switch to that of iio.v3.imread. To keep the current behavior (and make this warning disappear) use `import imageio.v2 as imageio` or call `imageio.v2.imread` directly.\n",
            "  x = imageio.imread(file_path)\n"
          ]
        },
        {
          "metadata": {
            "tags": null
          },
          "name": "stdout",
          "output_type": "stream",
          "text": [
            "Validation: loss: 0.016, support accuracy: 0.999, query accuracy: 0.996\n",
            "Saved checkpoint.\n",
            "Iteration 2510: loss: 0.003, support accuracy: 1.000, query accuracy: 0.997\n",
            "Iteration 2520: loss: 0.003, support accuracy: 1.000, query accuracy: 1.000\n",
            "Iteration 2530: loss: 0.007, support accuracy: 1.000, query accuracy: 0.997\n",
            "Iteration 2540: loss: 0.004, support accuracy: 1.000, query accuracy: 0.997\n",
            "Iteration 2550: loss: 0.020, support accuracy: 1.000, query accuracy: 0.995\n",
            "Start Validation...\n"
          ]
        },
        {
          "metadata": {
            "tags": null
          },
          "name": "stderr",
          "output_type": "stream",
          "text": [
            "<ipython-input-6-079f4bf87d5c>:27: DeprecationWarning: Starting with ImageIO v3 the behavior of this function will switch to that of iio.v3.imread. To keep the current behavior (and make this warning disappear) use `import imageio.v2 as imageio` or call `imageio.v2.imread` directly.\n",
            "  x = imageio.imread(file_path)\n",
            "<ipython-input-6-079f4bf87d5c>:27: DeprecationWarning: Starting with ImageIO v3 the behavior of this function will switch to that of iio.v3.imread. To keep the current behavior (and make this warning disappear) use `import imageio.v2 as imageio` or call `imageio.v2.imread` directly.\n",
            "  x = imageio.imread(file_path)\n"
          ]
        },
        {
          "metadata": {
            "tags": null
          },
          "name": "stdout",
          "output_type": "stream",
          "text": [
            "Validation: loss: 0.025, support accuracy: 1.000, query accuracy: 0.994\n",
            "Iteration 2560: loss: 0.004, support accuracy: 1.000, query accuracy: 1.000\n",
            "Iteration 2570: loss: 0.020, support accuracy: 1.000, query accuracy: 0.990\n",
            "Iteration 2580: loss: 0.005, support accuracy: 1.000, query accuracy: 0.997\n",
            "Iteration 2590: loss: 0.009, support accuracy: 1.000, query accuracy: 0.997\n",
            "Iteration 2600: loss: 0.030, support accuracy: 0.992, query accuracy: 0.987\n",
            "Start Validation...\n"
          ]
        },
        {
          "metadata": {
            "tags": null
          },
          "name": "stderr",
          "output_type": "stream",
          "text": [
            "<ipython-input-6-079f4bf87d5c>:27: DeprecationWarning: Starting with ImageIO v3 the behavior of this function will switch to that of iio.v3.imread. To keep the current behavior (and make this warning disappear) use `import imageio.v2 as imageio` or call `imageio.v2.imread` directly.\n",
            "  x = imageio.imread(file_path)\n",
            "<ipython-input-6-079f4bf87d5c>:27: DeprecationWarning: Starting with ImageIO v3 the behavior of this function will switch to that of iio.v3.imread. To keep the current behavior (and make this warning disappear) use `import imageio.v2 as imageio` or call `imageio.v2.imread` directly.\n",
            "  x = imageio.imread(file_path)\n"
          ]
        },
        {
          "metadata": {
            "tags": null
          },
          "name": "stdout",
          "output_type": "stream",
          "text": [
            "Validation: loss: 0.017, support accuracy: 0.999, query accuracy: 0.994\n",
            "Saved checkpoint.\n",
            "Iteration 2610: loss: 0.015, support accuracy: 1.000, query accuracy: 0.995\n",
            "Iteration 2620: loss: 0.008, support accuracy: 1.000, query accuracy: 0.995\n",
            "Iteration 2630: loss: 0.012, support accuracy: 1.000, query accuracy: 0.992\n",
            "Iteration 2640: loss: 0.001, support accuracy: 1.000, query accuracy: 1.000\n",
            "Iteration 2650: loss: 0.019, support accuracy: 1.000, query accuracy: 0.995\n",
            "Start Validation...\n"
          ]
        },
        {
          "metadata": {
            "tags": null
          },
          "name": "stderr",
          "output_type": "stream",
          "text": [
            "<ipython-input-6-079f4bf87d5c>:27: DeprecationWarning: Starting with ImageIO v3 the behavior of this function will switch to that of iio.v3.imread. To keep the current behavior (and make this warning disappear) use `import imageio.v2 as imageio` or call `imageio.v2.imread` directly.\n",
            "  x = imageio.imread(file_path)\n",
            "<ipython-input-6-079f4bf87d5c>:27: DeprecationWarning: Starting with ImageIO v3 the behavior of this function will switch to that of iio.v3.imread. To keep the current behavior (and make this warning disappear) use `import imageio.v2 as imageio` or call `imageio.v2.imread` directly.\n",
            "  x = imageio.imread(file_path)\n"
          ]
        },
        {
          "metadata": {
            "tags": null
          },
          "name": "stdout",
          "output_type": "stream",
          "text": [
            "Validation: loss: 0.013, support accuracy: 1.000, query accuracy: 0.997\n",
            "Iteration 2660: loss: 0.003, support accuracy: 1.000, query accuracy: 1.000\n",
            "Iteration 2670: loss: 0.001, support accuracy: 1.000, query accuracy: 1.000\n",
            "Iteration 2680: loss: 0.029, support accuracy: 1.000, query accuracy: 0.992\n",
            "Iteration 2690: loss: 0.007, support accuracy: 1.000, query accuracy: 0.995\n",
            "Iteration 2700: loss: 0.001, support accuracy: 1.000, query accuracy: 1.000\n",
            "Start Validation...\n"
          ]
        },
        {
          "metadata": {
            "tags": null
          },
          "name": "stderr",
          "output_type": "stream",
          "text": [
            "<ipython-input-6-079f4bf87d5c>:27: DeprecationWarning: Starting with ImageIO v3 the behavior of this function will switch to that of iio.v3.imread. To keep the current behavior (and make this warning disappear) use `import imageio.v2 as imageio` or call `imageio.v2.imread` directly.\n",
            "  x = imageio.imread(file_path)\n",
            "<ipython-input-6-079f4bf87d5c>:27: DeprecationWarning: Starting with ImageIO v3 the behavior of this function will switch to that of iio.v3.imread. To keep the current behavior (and make this warning disappear) use `import imageio.v2 as imageio` or call `imageio.v2.imread` directly.\n",
            "  x = imageio.imread(file_path)\n"
          ]
        },
        {
          "output_type": "stream",
          "name": "stdout",
          "text": [
            "Validation: loss: 0.010, support accuracy: 1.000, query accuracy: 0.997\n",
            "Saved checkpoint.\n",
            "Iteration 2710: loss: 0.006, support accuracy: 1.000, query accuracy: 0.997\n",
            "Iteration 2720: loss: 0.002, support accuracy: 1.000, query accuracy: 1.000\n",
            "Iteration 2730: loss: 0.001, support accuracy: 1.000, query accuracy: 1.000\n",
            "Iteration 2740: loss: 0.018, support accuracy: 1.000, query accuracy: 0.992\n",
            "Iteration 2750: loss: 0.004, support accuracy: 1.000, query accuracy: 1.000\n",
            "Start Validation...\n"
          ]
        },
        {
          "output_type": "stream",
          "name": "stderr",
          "text": [
            "<ipython-input-6-079f4bf87d5c>:27: DeprecationWarning: Starting with ImageIO v3 the behavior of this function will switch to that of iio.v3.imread. To keep the current behavior (and make this warning disappear) use `import imageio.v2 as imageio` or call `imageio.v2.imread` directly.\n",
            "  x = imageio.imread(file_path)\n",
            "<ipython-input-6-079f4bf87d5c>:27: DeprecationWarning: Starting with ImageIO v3 the behavior of this function will switch to that of iio.v3.imread. To keep the current behavior (and make this warning disappear) use `import imageio.v2 as imageio` or call `imageio.v2.imread` directly.\n",
            "  x = imageio.imread(file_path)\n"
          ]
        },
        {
          "output_type": "stream",
          "name": "stdout",
          "text": [
            "Validation: loss: 0.029, support accuracy: 0.999, query accuracy: 0.991\n",
            "Iteration 2760: loss: 0.000, support accuracy: 1.000, query accuracy: 1.000\n",
            "Iteration 2770: loss: 0.010, support accuracy: 1.000, query accuracy: 0.995\n",
            "Iteration 2780: loss: 0.005, support accuracy: 1.000, query accuracy: 0.997\n",
            "Iteration 2790: loss: 0.027, support accuracy: 0.995, query accuracy: 0.982\n",
            "Iteration 2800: loss: 0.001, support accuracy: 1.000, query accuracy: 1.000\n",
            "Start Validation...\n"
          ]
        },
        {
          "output_type": "stream",
          "name": "stderr",
          "text": [
            "<ipython-input-6-079f4bf87d5c>:27: DeprecationWarning: Starting with ImageIO v3 the behavior of this function will switch to that of iio.v3.imread. To keep the current behavior (and make this warning disappear) use `import imageio.v2 as imageio` or call `imageio.v2.imread` directly.\n",
            "  x = imageio.imread(file_path)\n",
            "<ipython-input-6-079f4bf87d5c>:27: DeprecationWarning: Starting with ImageIO v3 the behavior of this function will switch to that of iio.v3.imread. To keep the current behavior (and make this warning disappear) use `import imageio.v2 as imageio` or call `imageio.v2.imread` directly.\n",
            "  x = imageio.imread(file_path)\n"
          ]
        },
        {
          "output_type": "stream",
          "name": "stdout",
          "text": [
            "Validation: loss: 0.018, support accuracy: 0.999, query accuracy: 0.996\n",
            "Saved checkpoint.\n",
            "Iteration 2810: loss: 0.015, support accuracy: 0.997, query accuracy: 0.997\n",
            "Iteration 2820: loss: 0.027, support accuracy: 1.000, query accuracy: 0.992\n",
            "Iteration 2830: loss: 0.003, support accuracy: 1.000, query accuracy: 1.000\n",
            "Iteration 2840: loss: 0.002, support accuracy: 1.000, query accuracy: 1.000\n",
            "Iteration 2850: loss: 0.004, support accuracy: 1.000, query accuracy: 1.000\n",
            "Start Validation...\n"
          ]
        },
        {
          "output_type": "stream",
          "name": "stderr",
          "text": [
            "<ipython-input-6-079f4bf87d5c>:27: DeprecationWarning: Starting with ImageIO v3 the behavior of this function will switch to that of iio.v3.imread. To keep the current behavior (and make this warning disappear) use `import imageio.v2 as imageio` or call `imageio.v2.imread` directly.\n",
            "  x = imageio.imread(file_path)\n",
            "<ipython-input-6-079f4bf87d5c>:27: DeprecationWarning: Starting with ImageIO v3 the behavior of this function will switch to that of iio.v3.imread. To keep the current behavior (and make this warning disappear) use `import imageio.v2 as imageio` or call `imageio.v2.imread` directly.\n",
            "  x = imageio.imread(file_path)\n"
          ]
        },
        {
          "output_type": "stream",
          "name": "stdout",
          "text": [
            "Validation: loss: 0.031, support accuracy: 1.000, query accuracy: 0.991\n",
            "Iteration 2860: loss: 0.004, support accuracy: 1.000, query accuracy: 1.000\n",
            "Iteration 2870: loss: 0.020, support accuracy: 1.000, query accuracy: 0.992\n",
            "Iteration 2880: loss: 0.001, support accuracy: 1.000, query accuracy: 1.000\n",
            "Iteration 2890: loss: 0.002, support accuracy: 1.000, query accuracy: 1.000\n",
            "Iteration 2900: loss: 0.006, support accuracy: 1.000, query accuracy: 1.000\n",
            "Start Validation...\n"
          ]
        },
        {
          "output_type": "stream",
          "name": "stderr",
          "text": [
            "<ipython-input-6-079f4bf87d5c>:27: DeprecationWarning: Starting with ImageIO v3 the behavior of this function will switch to that of iio.v3.imread. To keep the current behavior (and make this warning disappear) use `import imageio.v2 as imageio` or call `imageio.v2.imread` directly.\n",
            "  x = imageio.imread(file_path)\n",
            "<ipython-input-6-079f4bf87d5c>:27: DeprecationWarning: Starting with ImageIO v3 the behavior of this function will switch to that of iio.v3.imread. To keep the current behavior (and make this warning disappear) use `import imageio.v2 as imageio` or call `imageio.v2.imread` directly.\n",
            "  x = imageio.imread(file_path)\n"
          ]
        },
        {
          "output_type": "stream",
          "name": "stdout",
          "text": [
            "Validation: loss: 0.015, support accuracy: 0.999, query accuracy: 0.995\n",
            "Saved checkpoint.\n",
            "Iteration 2910: loss: 0.012, support accuracy: 1.000, query accuracy: 0.992\n",
            "Iteration 2920: loss: 0.002, support accuracy: 1.000, query accuracy: 1.000\n",
            "Iteration 2930: loss: 0.001, support accuracy: 1.000, query accuracy: 1.000\n",
            "Iteration 2940: loss: 0.009, support accuracy: 1.000, query accuracy: 0.992\n",
            "Iteration 2950: loss: 0.010, support accuracy: 1.000, query accuracy: 0.995\n",
            "Start Validation...\n"
          ]
        },
        {
          "output_type": "stream",
          "name": "stderr",
          "text": [
            "<ipython-input-6-079f4bf87d5c>:27: DeprecationWarning: Starting with ImageIO v3 the behavior of this function will switch to that of iio.v3.imread. To keep the current behavior (and make this warning disappear) use `import imageio.v2 as imageio` or call `imageio.v2.imread` directly.\n",
            "  x = imageio.imread(file_path)\n",
            "<ipython-input-6-079f4bf87d5c>:27: DeprecationWarning: Starting with ImageIO v3 the behavior of this function will switch to that of iio.v3.imread. To keep the current behavior (and make this warning disappear) use `import imageio.v2 as imageio` or call `imageio.v2.imread` directly.\n",
            "  x = imageio.imread(file_path)\n"
          ]
        },
        {
          "output_type": "stream",
          "name": "stdout",
          "text": [
            "Validation: loss: 0.018, support accuracy: 1.000, query accuracy: 0.995\n",
            "Iteration 2960: loss: 0.003, support accuracy: 1.000, query accuracy: 1.000\n",
            "Iteration 2970: loss: 0.004, support accuracy: 1.000, query accuracy: 1.000\n",
            "Iteration 2980: loss: 0.008, support accuracy: 1.000, query accuracy: 0.995\n",
            "Iteration 2990: loss: 0.007, support accuracy: 1.000, query accuracy: 0.997\n",
            "Iteration 3000: loss: 0.020, support accuracy: 1.000, query accuracy: 0.997\n",
            "Start Validation...\n"
          ]
        },
        {
          "output_type": "stream",
          "name": "stderr",
          "text": [
            "<ipython-input-6-079f4bf87d5c>:27: DeprecationWarning: Starting with ImageIO v3 the behavior of this function will switch to that of iio.v3.imread. To keep the current behavior (and make this warning disappear) use `import imageio.v2 as imageio` or call `imageio.v2.imread` directly.\n",
            "  x = imageio.imread(file_path)\n",
            "<ipython-input-6-079f4bf87d5c>:27: DeprecationWarning: Starting with ImageIO v3 the behavior of this function will switch to that of iio.v3.imread. To keep the current behavior (and make this warning disappear) use `import imageio.v2 as imageio` or call `imageio.v2.imread` directly.\n",
            "  x = imageio.imread(file_path)\n"
          ]
        },
        {
          "output_type": "stream",
          "name": "stdout",
          "text": [
            "Validation: loss: 0.012, support accuracy: 0.999, query accuracy: 0.996\n",
            "Saved checkpoint.\n",
            "Iteration 3010: loss: 0.003, support accuracy: 1.000, query accuracy: 0.997\n",
            "Iteration 3020: loss: 0.007, support accuracy: 1.000, query accuracy: 0.997\n",
            "Iteration 3030: loss: 0.002, support accuracy: 1.000, query accuracy: 1.000\n",
            "Iteration 3040: loss: 0.035, support accuracy: 1.000, query accuracy: 0.990\n",
            "Iteration 3050: loss: 0.004, support accuracy: 1.000, query accuracy: 0.997\n",
            "Start Validation...\n"
          ]
        },
        {
          "output_type": "stream",
          "name": "stderr",
          "text": [
            "<ipython-input-6-079f4bf87d5c>:27: DeprecationWarning: Starting with ImageIO v3 the behavior of this function will switch to that of iio.v3.imread. To keep the current behavior (and make this warning disappear) use `import imageio.v2 as imageio` or call `imageio.v2.imread` directly.\n",
            "  x = imageio.imread(file_path)\n",
            "<ipython-input-6-079f4bf87d5c>:27: DeprecationWarning: Starting with ImageIO v3 the behavior of this function will switch to that of iio.v3.imread. To keep the current behavior (and make this warning disappear) use `import imageio.v2 as imageio` or call `imageio.v2.imread` directly.\n",
            "  x = imageio.imread(file_path)\n"
          ]
        },
        {
          "output_type": "stream",
          "name": "stdout",
          "text": [
            "Validation: loss: 0.014, support accuracy: 0.998, query accuracy: 0.993\n",
            "Iteration 3060: loss: 0.003, support accuracy: 1.000, query accuracy: 1.000\n",
            "Iteration 3070: loss: 0.005, support accuracy: 1.000, query accuracy: 0.997\n",
            "Iteration 3080: loss: 0.009, support accuracy: 1.000, query accuracy: 0.995\n",
            "Iteration 3090: loss: 0.001, support accuracy: 1.000, query accuracy: 1.000\n",
            "Iteration 3100: loss: 0.019, support accuracy: 1.000, query accuracy: 0.995\n",
            "Start Validation...\n"
          ]
        },
        {
          "output_type": "stream",
          "name": "stderr",
          "text": [
            "<ipython-input-6-079f4bf87d5c>:27: DeprecationWarning: Starting with ImageIO v3 the behavior of this function will switch to that of iio.v3.imread. To keep the current behavior (and make this warning disappear) use `import imageio.v2 as imageio` or call `imageio.v2.imread` directly.\n",
            "  x = imageio.imread(file_path)\n",
            "<ipython-input-6-079f4bf87d5c>:27: DeprecationWarning: Starting with ImageIO v3 the behavior of this function will switch to that of iio.v3.imread. To keep the current behavior (and make this warning disappear) use `import imageio.v2 as imageio` or call `imageio.v2.imread` directly.\n",
            "  x = imageio.imread(file_path)\n"
          ]
        },
        {
          "output_type": "stream",
          "name": "stdout",
          "text": [
            "Validation: loss: 0.022, support accuracy: 0.999, query accuracy: 0.995\n",
            "Saved checkpoint.\n",
            "Iteration 3110: loss: 0.005, support accuracy: 1.000, query accuracy: 0.997\n",
            "Iteration 3120: loss: 0.003, support accuracy: 1.000, query accuracy: 1.000\n",
            "Iteration 3130: loss: 0.020, support accuracy: 1.000, query accuracy: 0.990\n",
            "Iteration 3140: loss: 0.021, support accuracy: 1.000, query accuracy: 0.995\n",
            "Iteration 3150: loss: 0.002, support accuracy: 0.997, query accuracy: 1.000\n",
            "Start Validation...\n"
          ]
        },
        {
          "output_type": "stream",
          "name": "stderr",
          "text": [
            "<ipython-input-6-079f4bf87d5c>:27: DeprecationWarning: Starting with ImageIO v3 the behavior of this function will switch to that of iio.v3.imread. To keep the current behavior (and make this warning disappear) use `import imageio.v2 as imageio` or call `imageio.v2.imread` directly.\n",
            "  x = imageio.imread(file_path)\n",
            "<ipython-input-6-079f4bf87d5c>:27: DeprecationWarning: Starting with ImageIO v3 the behavior of this function will switch to that of iio.v3.imread. To keep the current behavior (and make this warning disappear) use `import imageio.v2 as imageio` or call `imageio.v2.imread` directly.\n",
            "  x = imageio.imread(file_path)\n"
          ]
        },
        {
          "output_type": "stream",
          "name": "stdout",
          "text": [
            "Validation: loss: 0.030, support accuracy: 0.999, query accuracy: 0.994\n",
            "Iteration 3160: loss: 0.001, support accuracy: 1.000, query accuracy: 1.000\n",
            "Iteration 3170: loss: 0.008, support accuracy: 1.000, query accuracy: 0.997\n",
            "Iteration 3180: loss: 0.008, support accuracy: 1.000, query accuracy: 0.997\n",
            "Iteration 3190: loss: 0.020, support accuracy: 0.997, query accuracy: 0.997\n",
            "Iteration 3200: loss: 0.009, support accuracy: 1.000, query accuracy: 0.995\n",
            "Start Validation...\n"
          ]
        },
        {
          "output_type": "stream",
          "name": "stderr",
          "text": [
            "<ipython-input-6-079f4bf87d5c>:27: DeprecationWarning: Starting with ImageIO v3 the behavior of this function will switch to that of iio.v3.imread. To keep the current behavior (and make this warning disappear) use `import imageio.v2 as imageio` or call `imageio.v2.imread` directly.\n",
            "  x = imageio.imread(file_path)\n",
            "<ipython-input-6-079f4bf87d5c>:27: DeprecationWarning: Starting with ImageIO v3 the behavior of this function will switch to that of iio.v3.imread. To keep the current behavior (and make this warning disappear) use `import imageio.v2 as imageio` or call `imageio.v2.imread` directly.\n",
            "  x = imageio.imread(file_path)\n"
          ]
        },
        {
          "output_type": "stream",
          "name": "stdout",
          "text": [
            "Validation: loss: 0.022, support accuracy: 0.998, query accuracy: 0.992\n",
            "Saved checkpoint.\n",
            "Iteration 3210: loss: 0.006, support accuracy: 1.000, query accuracy: 0.997\n",
            "Iteration 3220: loss: 0.002, support accuracy: 1.000, query accuracy: 1.000\n",
            "Iteration 3230: loss: 0.016, support accuracy: 1.000, query accuracy: 0.995\n",
            "Iteration 3240: loss: 0.009, support accuracy: 1.000, query accuracy: 0.995\n",
            "Iteration 3250: loss: 0.002, support accuracy: 1.000, query accuracy: 1.000\n",
            "Start Validation...\n"
          ]
        },
        {
          "output_type": "stream",
          "name": "stderr",
          "text": [
            "<ipython-input-6-079f4bf87d5c>:27: DeprecationWarning: Starting with ImageIO v3 the behavior of this function will switch to that of iio.v3.imread. To keep the current behavior (and make this warning disappear) use `import imageio.v2 as imageio` or call `imageio.v2.imread` directly.\n",
            "  x = imageio.imread(file_path)\n",
            "<ipython-input-6-079f4bf87d5c>:27: DeprecationWarning: Starting with ImageIO v3 the behavior of this function will switch to that of iio.v3.imread. To keep the current behavior (and make this warning disappear) use `import imageio.v2 as imageio` or call `imageio.v2.imread` directly.\n",
            "  x = imageio.imread(file_path)\n"
          ]
        },
        {
          "output_type": "stream",
          "name": "stdout",
          "text": [
            "Validation: loss: 0.015, support accuracy: 0.998, query accuracy: 0.992\n",
            "Iteration 3260: loss: 0.042, support accuracy: 1.000, query accuracy: 0.982\n",
            "Iteration 3270: loss: 0.014, support accuracy: 1.000, query accuracy: 0.995\n",
            "Iteration 3280: loss: 0.005, support accuracy: 1.000, query accuracy: 0.997\n",
            "Iteration 3290: loss: 0.000, support accuracy: 1.000, query accuracy: 1.000\n",
            "Iteration 3300: loss: 0.012, support accuracy: 0.995, query accuracy: 0.992\n",
            "Start Validation...\n"
          ]
        },
        {
          "output_type": "stream",
          "name": "stderr",
          "text": [
            "<ipython-input-6-079f4bf87d5c>:27: DeprecationWarning: Starting with ImageIO v3 the behavior of this function will switch to that of iio.v3.imread. To keep the current behavior (and make this warning disappear) use `import imageio.v2 as imageio` or call `imageio.v2.imread` directly.\n",
            "  x = imageio.imread(file_path)\n",
            "<ipython-input-6-079f4bf87d5c>:27: DeprecationWarning: Starting with ImageIO v3 the behavior of this function will switch to that of iio.v3.imread. To keep the current behavior (and make this warning disappear) use `import imageio.v2 as imageio` or call `imageio.v2.imread` directly.\n",
            "  x = imageio.imread(file_path)\n"
          ]
        },
        {
          "output_type": "stream",
          "name": "stdout",
          "text": [
            "Validation: loss: 0.017, support accuracy: 0.999, query accuracy: 0.994\n",
            "Saved checkpoint.\n",
            "Iteration 3310: loss: 0.015, support accuracy: 1.000, query accuracy: 0.995\n",
            "Iteration 3320: loss: 0.007, support accuracy: 1.000, query accuracy: 0.995\n",
            "Iteration 3330: loss: 0.009, support accuracy: 1.000, query accuracy: 0.995\n",
            "Iteration 3340: loss: 0.002, support accuracy: 0.997, query accuracy: 0.997\n",
            "Iteration 3350: loss: 0.003, support accuracy: 1.000, query accuracy: 0.997\n",
            "Start Validation...\n"
          ]
        },
        {
          "output_type": "stream",
          "name": "stderr",
          "text": [
            "<ipython-input-6-079f4bf87d5c>:27: DeprecationWarning: Starting with ImageIO v3 the behavior of this function will switch to that of iio.v3.imread. To keep the current behavior (and make this warning disappear) use `import imageio.v2 as imageio` or call `imageio.v2.imread` directly.\n",
            "  x = imageio.imread(file_path)\n",
            "<ipython-input-6-079f4bf87d5c>:27: DeprecationWarning: Starting with ImageIO v3 the behavior of this function will switch to that of iio.v3.imread. To keep the current behavior (and make this warning disappear) use `import imageio.v2 as imageio` or call `imageio.v2.imread` directly.\n",
            "  x = imageio.imread(file_path)\n"
          ]
        },
        {
          "output_type": "stream",
          "name": "stdout",
          "text": [
            "Validation: loss: 0.027, support accuracy: 0.999, query accuracy: 0.992\n",
            "Iteration 3360: loss: 0.003, support accuracy: 1.000, query accuracy: 1.000\n",
            "Iteration 3370: loss: 0.005, support accuracy: 1.000, query accuracy: 1.000\n",
            "Iteration 3380: loss: 0.017, support accuracy: 1.000, query accuracy: 0.997\n",
            "Iteration 3390: loss: 0.005, support accuracy: 1.000, query accuracy: 1.000\n",
            "Iteration 3400: loss: 0.007, support accuracy: 1.000, query accuracy: 0.997\n",
            "Start Validation...\n"
          ]
        },
        {
          "output_type": "stream",
          "name": "stderr",
          "text": [
            "<ipython-input-6-079f4bf87d5c>:27: DeprecationWarning: Starting with ImageIO v3 the behavior of this function will switch to that of iio.v3.imread. To keep the current behavior (and make this warning disappear) use `import imageio.v2 as imageio` or call `imageio.v2.imread` directly.\n",
            "  x = imageio.imread(file_path)\n",
            "<ipython-input-6-079f4bf87d5c>:27: DeprecationWarning: Starting with ImageIO v3 the behavior of this function will switch to that of iio.v3.imread. To keep the current behavior (and make this warning disappear) use `import imageio.v2 as imageio` or call `imageio.v2.imread` directly.\n",
            "  x = imageio.imread(file_path)\n"
          ]
        },
        {
          "output_type": "stream",
          "name": "stdout",
          "text": [
            "Validation: loss: 0.015, support accuracy: 0.998, query accuracy: 0.994\n",
            "Saved checkpoint.\n",
            "Iteration 3410: loss: 0.018, support accuracy: 1.000, query accuracy: 0.997\n",
            "Iteration 3420: loss: 0.008, support accuracy: 1.000, query accuracy: 0.995\n",
            "Iteration 3430: loss: 0.000, support accuracy: 1.000, query accuracy: 1.000\n",
            "Iteration 3440: loss: 0.007, support accuracy: 1.000, query accuracy: 0.997\n",
            "Iteration 3450: loss: 0.007, support accuracy: 1.000, query accuracy: 0.997\n",
            "Start Validation...\n"
          ]
        },
        {
          "output_type": "stream",
          "name": "stderr",
          "text": [
            "<ipython-input-6-079f4bf87d5c>:27: DeprecationWarning: Starting with ImageIO v3 the behavior of this function will switch to that of iio.v3.imread. To keep the current behavior (and make this warning disappear) use `import imageio.v2 as imageio` or call `imageio.v2.imread` directly.\n",
            "  x = imageio.imread(file_path)\n",
            "<ipython-input-6-079f4bf87d5c>:27: DeprecationWarning: Starting with ImageIO v3 the behavior of this function will switch to that of iio.v3.imread. To keep the current behavior (and make this warning disappear) use `import imageio.v2 as imageio` or call `imageio.v2.imread` directly.\n",
            "  x = imageio.imread(file_path)\n"
          ]
        },
        {
          "output_type": "stream",
          "name": "stdout",
          "text": [
            "Validation: loss: 0.022, support accuracy: 0.999, query accuracy: 0.992\n",
            "Iteration 3460: loss: 0.003, support accuracy: 1.000, query accuracy: 1.000\n",
            "Iteration 3470: loss: 0.011, support accuracy: 1.000, query accuracy: 0.997\n",
            "Iteration 3480: loss: 0.003, support accuracy: 1.000, query accuracy: 0.997\n",
            "Iteration 3490: loss: 0.011, support accuracy: 1.000, query accuracy: 0.995\n",
            "Iteration 3500: loss: 0.004, support accuracy: 1.000, query accuracy: 1.000\n",
            "Start Validation...\n"
          ]
        },
        {
          "output_type": "stream",
          "name": "stderr",
          "text": [
            "<ipython-input-6-079f4bf87d5c>:27: DeprecationWarning: Starting with ImageIO v3 the behavior of this function will switch to that of iio.v3.imread. To keep the current behavior (and make this warning disappear) use `import imageio.v2 as imageio` or call `imageio.v2.imread` directly.\n",
            "  x = imageio.imread(file_path)\n",
            "<ipython-input-6-079f4bf87d5c>:27: DeprecationWarning: Starting with ImageIO v3 the behavior of this function will switch to that of iio.v3.imread. To keep the current behavior (and make this warning disappear) use `import imageio.v2 as imageio` or call `imageio.v2.imread` directly.\n",
            "  x = imageio.imread(file_path)\n"
          ]
        },
        {
          "output_type": "stream",
          "name": "stdout",
          "text": [
            "Validation: loss: 0.019, support accuracy: 0.998, query accuracy: 0.995\n",
            "Saved checkpoint.\n",
            "Iteration 3510: loss: 0.003, support accuracy: 1.000, query accuracy: 0.997\n",
            "Iteration 3520: loss: 0.037, support accuracy: 1.000, query accuracy: 0.982\n",
            "Iteration 3530: loss: 0.000, support accuracy: 1.000, query accuracy: 1.000\n",
            "Iteration 3540: loss: 0.015, support accuracy: 1.000, query accuracy: 0.990\n",
            "Iteration 3550: loss: 0.001, support accuracy: 1.000, query accuracy: 1.000\n",
            "Start Validation...\n"
          ]
        },
        {
          "output_type": "stream",
          "name": "stderr",
          "text": [
            "<ipython-input-6-079f4bf87d5c>:27: DeprecationWarning: Starting with ImageIO v3 the behavior of this function will switch to that of iio.v3.imread. To keep the current behavior (and make this warning disappear) use `import imageio.v2 as imageio` or call `imageio.v2.imread` directly.\n",
            "  x = imageio.imread(file_path)\n",
            "<ipython-input-6-079f4bf87d5c>:27: DeprecationWarning: Starting with ImageIO v3 the behavior of this function will switch to that of iio.v3.imread. To keep the current behavior (and make this warning disappear) use `import imageio.v2 as imageio` or call `imageio.v2.imread` directly.\n",
            "  x = imageio.imread(file_path)\n"
          ]
        },
        {
          "output_type": "stream",
          "name": "stdout",
          "text": [
            "Validation: loss: 0.015, support accuracy: 0.999, query accuracy: 0.995\n",
            "Iteration 3560: loss: 0.003, support accuracy: 1.000, query accuracy: 1.000\n",
            "Iteration 3570: loss: 0.001, support accuracy: 1.000, query accuracy: 1.000\n",
            "Iteration 3580: loss: 0.003, support accuracy: 1.000, query accuracy: 1.000\n",
            "Iteration 3590: loss: 0.002, support accuracy: 1.000, query accuracy: 1.000\n",
            "Iteration 3600: loss: 0.004, support accuracy: 0.997, query accuracy: 1.000\n",
            "Start Validation...\n"
          ]
        },
        {
          "output_type": "stream",
          "name": "stderr",
          "text": [
            "<ipython-input-6-079f4bf87d5c>:27: DeprecationWarning: Starting with ImageIO v3 the behavior of this function will switch to that of iio.v3.imread. To keep the current behavior (and make this warning disappear) use `import imageio.v2 as imageio` or call `imageio.v2.imread` directly.\n",
            "  x = imageio.imread(file_path)\n",
            "<ipython-input-6-079f4bf87d5c>:27: DeprecationWarning: Starting with ImageIO v3 the behavior of this function will switch to that of iio.v3.imread. To keep the current behavior (and make this warning disappear) use `import imageio.v2 as imageio` or call `imageio.v2.imread` directly.\n",
            "  x = imageio.imread(file_path)\n"
          ]
        },
        {
          "output_type": "stream",
          "name": "stdout",
          "text": [
            "Validation: loss: 0.018, support accuracy: 1.000, query accuracy: 0.994\n",
            "Saved checkpoint.\n",
            "Iteration 3610: loss: 0.004, support accuracy: 1.000, query accuracy: 0.997\n",
            "Iteration 3620: loss: 0.001, support accuracy: 1.000, query accuracy: 1.000\n",
            "Iteration 3630: loss: 0.004, support accuracy: 1.000, query accuracy: 0.997\n",
            "Iteration 3640: loss: 0.012, support accuracy: 1.000, query accuracy: 0.992\n",
            "Iteration 3650: loss: 0.010, support accuracy: 1.000, query accuracy: 0.995\n",
            "Start Validation...\n"
          ]
        },
        {
          "output_type": "stream",
          "name": "stderr",
          "text": [
            "<ipython-input-6-079f4bf87d5c>:27: DeprecationWarning: Starting with ImageIO v3 the behavior of this function will switch to that of iio.v3.imread. To keep the current behavior (and make this warning disappear) use `import imageio.v2 as imageio` or call `imageio.v2.imread` directly.\n",
            "  x = imageio.imread(file_path)\n",
            "<ipython-input-6-079f4bf87d5c>:27: DeprecationWarning: Starting with ImageIO v3 the behavior of this function will switch to that of iio.v3.imread. To keep the current behavior (and make this warning disappear) use `import imageio.v2 as imageio` or call `imageio.v2.imread` directly.\n",
            "  x = imageio.imread(file_path)\n"
          ]
        },
        {
          "output_type": "stream",
          "name": "stdout",
          "text": [
            "Validation: loss: 0.003, support accuracy: 1.000, query accuracy: 0.999\n",
            "Iteration 3660: loss: 0.004, support accuracy: 1.000, query accuracy: 0.997\n",
            "Iteration 3670: loss: 0.022, support accuracy: 1.000, query accuracy: 0.992\n",
            "Iteration 3680: loss: 0.020, support accuracy: 1.000, query accuracy: 0.987\n",
            "Iteration 3690: loss: 0.006, support accuracy: 1.000, query accuracy: 0.997\n",
            "Iteration 3700: loss: 0.001, support accuracy: 1.000, query accuracy: 1.000\n",
            "Start Validation...\n"
          ]
        },
        {
          "output_type": "stream",
          "name": "stderr",
          "text": [
            "<ipython-input-6-079f4bf87d5c>:27: DeprecationWarning: Starting with ImageIO v3 the behavior of this function will switch to that of iio.v3.imread. To keep the current behavior (and make this warning disappear) use `import imageio.v2 as imageio` or call `imageio.v2.imread` directly.\n",
            "  x = imageio.imread(file_path)\n",
            "<ipython-input-6-079f4bf87d5c>:27: DeprecationWarning: Starting with ImageIO v3 the behavior of this function will switch to that of iio.v3.imread. To keep the current behavior (and make this warning disappear) use `import imageio.v2 as imageio` or call `imageio.v2.imread` directly.\n",
            "  x = imageio.imread(file_path)\n"
          ]
        },
        {
          "output_type": "stream",
          "name": "stdout",
          "text": [
            "Validation: loss: 0.011, support accuracy: 1.000, query accuracy: 0.996\n",
            "Saved checkpoint.\n",
            "Iteration 3710: loss: 0.006, support accuracy: 1.000, query accuracy: 0.997\n",
            "Iteration 3720: loss: 0.000, support accuracy: 1.000, query accuracy: 1.000\n",
            "Iteration 3730: loss: 0.001, support accuracy: 1.000, query accuracy: 1.000\n",
            "Iteration 3740: loss: 0.002, support accuracy: 1.000, query accuracy: 1.000\n",
            "Iteration 3750: loss: 0.010, support accuracy: 1.000, query accuracy: 0.992\n",
            "Start Validation...\n"
          ]
        },
        {
          "output_type": "stream",
          "name": "stderr",
          "text": [
            "<ipython-input-6-079f4bf87d5c>:27: DeprecationWarning: Starting with ImageIO v3 the behavior of this function will switch to that of iio.v3.imread. To keep the current behavior (and make this warning disappear) use `import imageio.v2 as imageio` or call `imageio.v2.imread` directly.\n",
            "  x = imageio.imread(file_path)\n",
            "<ipython-input-6-079f4bf87d5c>:27: DeprecationWarning: Starting with ImageIO v3 the behavior of this function will switch to that of iio.v3.imread. To keep the current behavior (and make this warning disappear) use `import imageio.v2 as imageio` or call `imageio.v2.imread` directly.\n",
            "  x = imageio.imread(file_path)\n"
          ]
        },
        {
          "output_type": "stream",
          "name": "stdout",
          "text": [
            "Validation: loss: 0.013, support accuracy: 1.000, query accuracy: 0.996\n",
            "Iteration 3760: loss: 0.010, support accuracy: 0.997, query accuracy: 0.997\n",
            "Iteration 3770: loss: 0.001, support accuracy: 1.000, query accuracy: 1.000\n",
            "Iteration 3780: loss: 0.009, support accuracy: 1.000, query accuracy: 0.997\n",
            "Iteration 3790: loss: 0.000, support accuracy: 1.000, query accuracy: 1.000\n",
            "Iteration 3800: loss: 0.009, support accuracy: 1.000, query accuracy: 0.995\n",
            "Start Validation...\n"
          ]
        },
        {
          "output_type": "stream",
          "name": "stderr",
          "text": [
            "<ipython-input-6-079f4bf87d5c>:27: DeprecationWarning: Starting with ImageIO v3 the behavior of this function will switch to that of iio.v3.imread. To keep the current behavior (and make this warning disappear) use `import imageio.v2 as imageio` or call `imageio.v2.imread` directly.\n",
            "  x = imageio.imread(file_path)\n",
            "<ipython-input-6-079f4bf87d5c>:27: DeprecationWarning: Starting with ImageIO v3 the behavior of this function will switch to that of iio.v3.imread. To keep the current behavior (and make this warning disappear) use `import imageio.v2 as imageio` or call `imageio.v2.imread` directly.\n",
            "  x = imageio.imread(file_path)\n"
          ]
        },
        {
          "output_type": "stream",
          "name": "stdout",
          "text": [
            "Validation: loss: 0.014, support accuracy: 0.999, query accuracy: 0.996\n",
            "Saved checkpoint.\n",
            "Iteration 3810: loss: 0.008, support accuracy: 1.000, query accuracy: 0.995\n",
            "Iteration 3820: loss: 0.002, support accuracy: 1.000, query accuracy: 1.000\n",
            "Iteration 3830: loss: 0.014, support accuracy: 1.000, query accuracy: 0.995\n",
            "Iteration 3840: loss: 0.004, support accuracy: 1.000, query accuracy: 0.997\n",
            "Iteration 3850: loss: 0.008, support accuracy: 1.000, query accuracy: 0.997\n",
            "Start Validation...\n"
          ]
        },
        {
          "output_type": "stream",
          "name": "stderr",
          "text": [
            "<ipython-input-6-079f4bf87d5c>:27: DeprecationWarning: Starting with ImageIO v3 the behavior of this function will switch to that of iio.v3.imread. To keep the current behavior (and make this warning disappear) use `import imageio.v2 as imageio` or call `imageio.v2.imread` directly.\n",
            "  x = imageio.imread(file_path)\n",
            "<ipython-input-6-079f4bf87d5c>:27: DeprecationWarning: Starting with ImageIO v3 the behavior of this function will switch to that of iio.v3.imread. To keep the current behavior (and make this warning disappear) use `import imageio.v2 as imageio` or call `imageio.v2.imread` directly.\n",
            "  x = imageio.imread(file_path)\n"
          ]
        },
        {
          "output_type": "stream",
          "name": "stdout",
          "text": [
            "Validation: loss: 0.014, support accuracy: 0.997, query accuracy: 0.994\n",
            "Iteration 3860: loss: 0.034, support accuracy: 1.000, query accuracy: 0.992\n",
            "Iteration 3870: loss: 0.001, support accuracy: 1.000, query accuracy: 1.000\n",
            "Iteration 3880: loss: 0.020, support accuracy: 1.000, query accuracy: 0.990\n",
            "Iteration 3890: loss: 0.029, support accuracy: 1.000, query accuracy: 0.995\n",
            "Iteration 3900: loss: 0.032, support accuracy: 0.995, query accuracy: 0.992\n",
            "Start Validation...\n"
          ]
        },
        {
          "output_type": "stream",
          "name": "stderr",
          "text": [
            "<ipython-input-6-079f4bf87d5c>:27: DeprecationWarning: Starting with ImageIO v3 the behavior of this function will switch to that of iio.v3.imread. To keep the current behavior (and make this warning disappear) use `import imageio.v2 as imageio` or call `imageio.v2.imread` directly.\n",
            "  x = imageio.imread(file_path)\n",
            "<ipython-input-6-079f4bf87d5c>:27: DeprecationWarning: Starting with ImageIO v3 the behavior of this function will switch to that of iio.v3.imread. To keep the current behavior (and make this warning disappear) use `import imageio.v2 as imageio` or call `imageio.v2.imread` directly.\n",
            "  x = imageio.imread(file_path)\n"
          ]
        },
        {
          "output_type": "stream",
          "name": "stdout",
          "text": [
            "Validation: loss: 0.024, support accuracy: 0.999, query accuracy: 0.994\n",
            "Saved checkpoint.\n",
            "Iteration 3910: loss: 0.005, support accuracy: 1.000, query accuracy: 0.997\n",
            "Iteration 3920: loss: 0.011, support accuracy: 1.000, query accuracy: 0.992\n",
            "Iteration 3930: loss: 0.013, support accuracy: 1.000, query accuracy: 0.995\n",
            "Iteration 3940: loss: 0.003, support accuracy: 1.000, query accuracy: 1.000\n",
            "Iteration 3950: loss: 0.023, support accuracy: 1.000, query accuracy: 0.992\n",
            "Start Validation...\n"
          ]
        },
        {
          "output_type": "stream",
          "name": "stderr",
          "text": [
            "<ipython-input-6-079f4bf87d5c>:27: DeprecationWarning: Starting with ImageIO v3 the behavior of this function will switch to that of iio.v3.imread. To keep the current behavior (and make this warning disappear) use `import imageio.v2 as imageio` or call `imageio.v2.imread` directly.\n",
            "  x = imageio.imread(file_path)\n",
            "<ipython-input-6-079f4bf87d5c>:27: DeprecationWarning: Starting with ImageIO v3 the behavior of this function will switch to that of iio.v3.imread. To keep the current behavior (and make this warning disappear) use `import imageio.v2 as imageio` or call `imageio.v2.imread` directly.\n",
            "  x = imageio.imread(file_path)\n"
          ]
        },
        {
          "output_type": "stream",
          "name": "stdout",
          "text": [
            "Validation: loss: 0.014, support accuracy: 0.999, query accuracy: 0.997\n",
            "Iteration 3960: loss: 0.017, support accuracy: 1.000, query accuracy: 0.992\n",
            "Iteration 3970: loss: 0.000, support accuracy: 1.000, query accuracy: 1.000\n",
            "Iteration 3980: loss: 0.002, support accuracy: 1.000, query accuracy: 1.000\n",
            "Iteration 3990: loss: 0.006, support accuracy: 1.000, query accuracy: 0.997\n",
            "Iteration 4000: loss: 0.003, support accuracy: 0.997, query accuracy: 0.997\n",
            "Start Validation...\n"
          ]
        },
        {
          "output_type": "stream",
          "name": "stderr",
          "text": [
            "<ipython-input-6-079f4bf87d5c>:27: DeprecationWarning: Starting with ImageIO v3 the behavior of this function will switch to that of iio.v3.imread. To keep the current behavior (and make this warning disappear) use `import imageio.v2 as imageio` or call `imageio.v2.imread` directly.\n",
            "  x = imageio.imread(file_path)\n",
            "<ipython-input-6-079f4bf87d5c>:27: DeprecationWarning: Starting with ImageIO v3 the behavior of this function will switch to that of iio.v3.imread. To keep the current behavior (and make this warning disappear) use `import imageio.v2 as imageio` or call `imageio.v2.imread` directly.\n",
            "  x = imageio.imread(file_path)\n"
          ]
        },
        {
          "output_type": "stream",
          "name": "stdout",
          "text": [
            "Validation: loss: 0.020, support accuracy: 0.999, query accuracy: 0.994\n",
            "Saved checkpoint.\n",
            "Iteration 4010: loss: 0.002, support accuracy: 1.000, query accuracy: 1.000\n",
            "Iteration 4020: loss: 0.003, support accuracy: 1.000, query accuracy: 1.000\n",
            "Iteration 4030: loss: 0.007, support accuracy: 1.000, query accuracy: 0.997\n",
            "Iteration 4040: loss: 0.003, support accuracy: 1.000, query accuracy: 0.997\n",
            "Iteration 4050: loss: 0.026, support accuracy: 1.000, query accuracy: 0.995\n",
            "Start Validation...\n"
          ]
        },
        {
          "output_type": "stream",
          "name": "stderr",
          "text": [
            "<ipython-input-6-079f4bf87d5c>:27: DeprecationWarning: Starting with ImageIO v3 the behavior of this function will switch to that of iio.v3.imread. To keep the current behavior (and make this warning disappear) use `import imageio.v2 as imageio` or call `imageio.v2.imread` directly.\n",
            "  x = imageio.imread(file_path)\n",
            "<ipython-input-6-079f4bf87d5c>:27: DeprecationWarning: Starting with ImageIO v3 the behavior of this function will switch to that of iio.v3.imread. To keep the current behavior (and make this warning disappear) use `import imageio.v2 as imageio` or call `imageio.v2.imread` directly.\n",
            "  x = imageio.imread(file_path)\n"
          ]
        },
        {
          "output_type": "stream",
          "name": "stdout",
          "text": [
            "Validation: loss: 0.027, support accuracy: 0.999, query accuracy: 0.995\n",
            "Iteration 4060: loss: 0.002, support accuracy: 1.000, query accuracy: 1.000\n",
            "Iteration 4070: loss: 0.008, support accuracy: 1.000, query accuracy: 0.995\n",
            "Iteration 4080: loss: 0.020, support accuracy: 1.000, query accuracy: 0.992\n",
            "Iteration 4090: loss: 0.006, support accuracy: 1.000, query accuracy: 0.995\n",
            "Iteration 4100: loss: 0.003, support accuracy: 1.000, query accuracy: 0.997\n",
            "Start Validation...\n"
          ]
        },
        {
          "output_type": "stream",
          "name": "stderr",
          "text": [
            "<ipython-input-6-079f4bf87d5c>:27: DeprecationWarning: Starting with ImageIO v3 the behavior of this function will switch to that of iio.v3.imread. To keep the current behavior (and make this warning disappear) use `import imageio.v2 as imageio` or call `imageio.v2.imread` directly.\n",
            "  x = imageio.imread(file_path)\n",
            "<ipython-input-6-079f4bf87d5c>:27: DeprecationWarning: Starting with ImageIO v3 the behavior of this function will switch to that of iio.v3.imread. To keep the current behavior (and make this warning disappear) use `import imageio.v2 as imageio` or call `imageio.v2.imread` directly.\n",
            "  x = imageio.imread(file_path)\n"
          ]
        },
        {
          "output_type": "stream",
          "name": "stdout",
          "text": [
            "Validation: loss: 0.017, support accuracy: 0.999, query accuracy: 0.994\n",
            "Saved checkpoint.\n",
            "Iteration 4110: loss: 0.006, support accuracy: 1.000, query accuracy: 0.997\n",
            "Iteration 4120: loss: 0.004, support accuracy: 1.000, query accuracy: 1.000\n",
            "Iteration 4130: loss: 0.006, support accuracy: 1.000, query accuracy: 0.997\n",
            "Iteration 4140: loss: 0.028, support accuracy: 1.000, query accuracy: 0.992\n",
            "Iteration 4150: loss: 0.019, support accuracy: 1.000, query accuracy: 0.995\n",
            "Start Validation...\n"
          ]
        },
        {
          "output_type": "stream",
          "name": "stderr",
          "text": [
            "<ipython-input-6-079f4bf87d5c>:27: DeprecationWarning: Starting with ImageIO v3 the behavior of this function will switch to that of iio.v3.imread. To keep the current behavior (and make this warning disappear) use `import imageio.v2 as imageio` or call `imageio.v2.imread` directly.\n",
            "  x = imageio.imread(file_path)\n",
            "<ipython-input-6-079f4bf87d5c>:27: DeprecationWarning: Starting with ImageIO v3 the behavior of this function will switch to that of iio.v3.imread. To keep the current behavior (and make this warning disappear) use `import imageio.v2 as imageio` or call `imageio.v2.imread` directly.\n",
            "  x = imageio.imread(file_path)\n"
          ]
        },
        {
          "output_type": "stream",
          "name": "stdout",
          "text": [
            "Validation: loss: 0.011, support accuracy: 0.999, query accuracy: 0.997\n",
            "Iteration 4160: loss: 0.002, support accuracy: 1.000, query accuracy: 1.000\n",
            "Iteration 4170: loss: 0.006, support accuracy: 1.000, query accuracy: 0.997\n",
            "Iteration 4180: loss: 0.003, support accuracy: 1.000, query accuracy: 0.997\n",
            "Iteration 4190: loss: 0.001, support accuracy: 1.000, query accuracy: 1.000\n",
            "Iteration 4200: loss: 0.002, support accuracy: 1.000, query accuracy: 1.000\n",
            "Start Validation...\n"
          ]
        },
        {
          "output_type": "stream",
          "name": "stderr",
          "text": [
            "<ipython-input-6-079f4bf87d5c>:27: DeprecationWarning: Starting with ImageIO v3 the behavior of this function will switch to that of iio.v3.imread. To keep the current behavior (and make this warning disappear) use `import imageio.v2 as imageio` or call `imageio.v2.imread` directly.\n",
            "  x = imageio.imread(file_path)\n",
            "<ipython-input-6-079f4bf87d5c>:27: DeprecationWarning: Starting with ImageIO v3 the behavior of this function will switch to that of iio.v3.imread. To keep the current behavior (and make this warning disappear) use `import imageio.v2 as imageio` or call `imageio.v2.imread` directly.\n",
            "  x = imageio.imread(file_path)\n"
          ]
        },
        {
          "output_type": "stream",
          "name": "stdout",
          "text": [
            "Validation: loss: 0.012, support accuracy: 1.000, query accuracy: 0.996\n",
            "Saved checkpoint.\n",
            "Iteration 4210: loss: 0.008, support accuracy: 1.000, query accuracy: 0.997\n",
            "Iteration 4220: loss: 0.005, support accuracy: 1.000, query accuracy: 0.997\n",
            "Iteration 4230: loss: 0.022, support accuracy: 0.997, query accuracy: 0.995\n",
            "Iteration 4240: loss: 0.001, support accuracy: 0.997, query accuracy: 1.000\n",
            "Iteration 4250: loss: 0.002, support accuracy: 1.000, query accuracy: 1.000\n",
            "Start Validation...\n"
          ]
        },
        {
          "output_type": "stream",
          "name": "stderr",
          "text": [
            "<ipython-input-6-079f4bf87d5c>:27: DeprecationWarning: Starting with ImageIO v3 the behavior of this function will switch to that of iio.v3.imread. To keep the current behavior (and make this warning disappear) use `import imageio.v2 as imageio` or call `imageio.v2.imread` directly.\n",
            "  x = imageio.imread(file_path)\n",
            "<ipython-input-6-079f4bf87d5c>:27: DeprecationWarning: Starting with ImageIO v3 the behavior of this function will switch to that of iio.v3.imread. To keep the current behavior (and make this warning disappear) use `import imageio.v2 as imageio` or call `imageio.v2.imread` directly.\n",
            "  x = imageio.imread(file_path)\n"
          ]
        },
        {
          "output_type": "stream",
          "name": "stdout",
          "text": [
            "Validation: loss: 0.012, support accuracy: 0.999, query accuracy: 0.995\n",
            "Iteration 4260: loss: 0.001, support accuracy: 1.000, query accuracy: 1.000\n",
            "Iteration 4270: loss: 0.013, support accuracy: 1.000, query accuracy: 0.997\n",
            "Iteration 4280: loss: 0.005, support accuracy: 1.000, query accuracy: 0.997\n",
            "Iteration 4290: loss: 0.006, support accuracy: 1.000, query accuracy: 0.997\n",
            "Iteration 4300: loss: 0.002, support accuracy: 1.000, query accuracy: 1.000\n",
            "Start Validation...\n"
          ]
        },
        {
          "output_type": "stream",
          "name": "stderr",
          "text": [
            "<ipython-input-6-079f4bf87d5c>:27: DeprecationWarning: Starting with ImageIO v3 the behavior of this function will switch to that of iio.v3.imread. To keep the current behavior (and make this warning disappear) use `import imageio.v2 as imageio` or call `imageio.v2.imread` directly.\n",
            "  x = imageio.imread(file_path)\n",
            "<ipython-input-6-079f4bf87d5c>:27: DeprecationWarning: Starting with ImageIO v3 the behavior of this function will switch to that of iio.v3.imread. To keep the current behavior (and make this warning disappear) use `import imageio.v2 as imageio` or call `imageio.v2.imread` directly.\n",
            "  x = imageio.imread(file_path)\n"
          ]
        },
        {
          "output_type": "stream",
          "name": "stdout",
          "text": [
            "Validation: loss: 0.021, support accuracy: 0.999, query accuracy: 0.994\n",
            "Saved checkpoint.\n",
            "Iteration 4310: loss: 0.008, support accuracy: 1.000, query accuracy: 0.995\n",
            "Iteration 4320: loss: 0.001, support accuracy: 1.000, query accuracy: 1.000\n",
            "Iteration 4330: loss: 0.001, support accuracy: 1.000, query accuracy: 1.000\n",
            "Iteration 4340: loss: 0.002, support accuracy: 1.000, query accuracy: 1.000\n",
            "Iteration 4350: loss: 0.017, support accuracy: 0.997, query accuracy: 0.995\n",
            "Start Validation...\n"
          ]
        },
        {
          "output_type": "stream",
          "name": "stderr",
          "text": [
            "<ipython-input-6-079f4bf87d5c>:27: DeprecationWarning: Starting with ImageIO v3 the behavior of this function will switch to that of iio.v3.imread. To keep the current behavior (and make this warning disappear) use `import imageio.v2 as imageio` or call `imageio.v2.imread` directly.\n",
            "  x = imageio.imread(file_path)\n",
            "<ipython-input-6-079f4bf87d5c>:27: DeprecationWarning: Starting with ImageIO v3 the behavior of this function will switch to that of iio.v3.imread. To keep the current behavior (and make this warning disappear) use `import imageio.v2 as imageio` or call `imageio.v2.imread` directly.\n",
            "  x = imageio.imread(file_path)\n"
          ]
        },
        {
          "output_type": "stream",
          "name": "stdout",
          "text": [
            "Validation: loss: 0.008, support accuracy: 1.000, query accuracy: 0.998\n",
            "Iteration 4360: loss: 0.010, support accuracy: 1.000, query accuracy: 0.997\n",
            "Iteration 4370: loss: 0.003, support accuracy: 1.000, query accuracy: 0.997\n",
            "Iteration 4380: loss: 0.027, support accuracy: 0.997, query accuracy: 0.995\n",
            "Iteration 4390: loss: 0.000, support accuracy: 1.000, query accuracy: 1.000\n",
            "Iteration 4400: loss: 0.026, support accuracy: 0.997, query accuracy: 0.980\n",
            "Start Validation...\n"
          ]
        },
        {
          "output_type": "stream",
          "name": "stderr",
          "text": [
            "<ipython-input-6-079f4bf87d5c>:27: DeprecationWarning: Starting with ImageIO v3 the behavior of this function will switch to that of iio.v3.imread. To keep the current behavior (and make this warning disappear) use `import imageio.v2 as imageio` or call `imageio.v2.imread` directly.\n",
            "  x = imageio.imread(file_path)\n",
            "<ipython-input-6-079f4bf87d5c>:27: DeprecationWarning: Starting with ImageIO v3 the behavior of this function will switch to that of iio.v3.imread. To keep the current behavior (and make this warning disappear) use `import imageio.v2 as imageio` or call `imageio.v2.imread` directly.\n",
            "  x = imageio.imread(file_path)\n"
          ]
        },
        {
          "output_type": "stream",
          "name": "stdout",
          "text": [
            "Validation: loss: 0.016, support accuracy: 1.000, query accuracy: 0.996\n",
            "Saved checkpoint.\n",
            "Iteration 4410: loss: 0.002, support accuracy: 1.000, query accuracy: 1.000\n",
            "Iteration 4420: loss: 0.005, support accuracy: 1.000, query accuracy: 0.997\n",
            "Iteration 4430: loss: 0.019, support accuracy: 1.000, query accuracy: 0.997\n",
            "Iteration 4440: loss: 0.001, support accuracy: 0.997, query accuracy: 1.000\n",
            "Iteration 4450: loss: 0.002, support accuracy: 1.000, query accuracy: 1.000\n",
            "Start Validation...\n"
          ]
        },
        {
          "output_type": "stream",
          "name": "stderr",
          "text": [
            "<ipython-input-6-079f4bf87d5c>:27: DeprecationWarning: Starting with ImageIO v3 the behavior of this function will switch to that of iio.v3.imread. To keep the current behavior (and make this warning disappear) use `import imageio.v2 as imageio` or call `imageio.v2.imread` directly.\n",
            "  x = imageio.imread(file_path)\n",
            "<ipython-input-6-079f4bf87d5c>:27: DeprecationWarning: Starting with ImageIO v3 the behavior of this function will switch to that of iio.v3.imread. To keep the current behavior (and make this warning disappear) use `import imageio.v2 as imageio` or call `imageio.v2.imread` directly.\n",
            "  x = imageio.imread(file_path)\n"
          ]
        },
        {
          "output_type": "stream",
          "name": "stdout",
          "text": [
            "Validation: loss: 0.009, support accuracy: 0.999, query accuracy: 0.997\n",
            "Iteration 4460: loss: 0.001, support accuracy: 1.000, query accuracy: 1.000\n",
            "Iteration 4470: loss: 0.004, support accuracy: 1.000, query accuracy: 0.997\n",
            "Iteration 4480: loss: 0.007, support accuracy: 1.000, query accuracy: 0.997\n",
            "Iteration 4490: loss: 0.017, support accuracy: 0.995, query accuracy: 0.992\n",
            "Iteration 4500: loss: 0.009, support accuracy: 0.997, query accuracy: 0.995\n",
            "Start Validation...\n"
          ]
        },
        {
          "output_type": "stream",
          "name": "stderr",
          "text": [
            "<ipython-input-6-079f4bf87d5c>:27: DeprecationWarning: Starting with ImageIO v3 the behavior of this function will switch to that of iio.v3.imread. To keep the current behavior (and make this warning disappear) use `import imageio.v2 as imageio` or call `imageio.v2.imread` directly.\n",
            "  x = imageio.imread(file_path)\n",
            "<ipython-input-6-079f4bf87d5c>:27: DeprecationWarning: Starting with ImageIO v3 the behavior of this function will switch to that of iio.v3.imread. To keep the current behavior (and make this warning disappear) use `import imageio.v2 as imageio` or call `imageio.v2.imread` directly.\n",
            "  x = imageio.imread(file_path)\n"
          ]
        },
        {
          "output_type": "stream",
          "name": "stdout",
          "text": [
            "Validation: loss: 0.025, support accuracy: 1.000, query accuracy: 0.994\n",
            "Saved checkpoint.\n",
            "Iteration 4510: loss: 0.018, support accuracy: 0.997, query accuracy: 0.995\n",
            "Iteration 4520: loss: 0.003, support accuracy: 1.000, query accuracy: 1.000\n",
            "Iteration 4530: loss: 0.002, support accuracy: 1.000, query accuracy: 1.000\n",
            "Iteration 4540: loss: 0.017, support accuracy: 1.000, query accuracy: 0.995\n",
            "Iteration 4550: loss: 0.005, support accuracy: 1.000, query accuracy: 0.997\n",
            "Start Validation...\n"
          ]
        },
        {
          "output_type": "stream",
          "name": "stderr",
          "text": [
            "<ipython-input-6-079f4bf87d5c>:27: DeprecationWarning: Starting with ImageIO v3 the behavior of this function will switch to that of iio.v3.imread. To keep the current behavior (and make this warning disappear) use `import imageio.v2 as imageio` or call `imageio.v2.imread` directly.\n",
            "  x = imageio.imread(file_path)\n",
            "<ipython-input-6-079f4bf87d5c>:27: DeprecationWarning: Starting with ImageIO v3 the behavior of this function will switch to that of iio.v3.imread. To keep the current behavior (and make this warning disappear) use `import imageio.v2 as imageio` or call `imageio.v2.imread` directly.\n",
            "  x = imageio.imread(file_path)\n"
          ]
        },
        {
          "output_type": "stream",
          "name": "stdout",
          "text": [
            "Validation: loss: 0.012, support accuracy: 1.000, query accuracy: 0.996\n",
            "Iteration 4560: loss: 0.004, support accuracy: 1.000, query accuracy: 0.997\n",
            "Iteration 4570: loss: 0.000, support accuracy: 1.000, query accuracy: 1.000\n",
            "Iteration 4580: loss: 0.006, support accuracy: 1.000, query accuracy: 0.997\n",
            "Iteration 4590: loss: 0.012, support accuracy: 1.000, query accuracy: 0.992\n",
            "Iteration 4600: loss: 0.037, support accuracy: 1.000, query accuracy: 0.992\n",
            "Start Validation...\n"
          ]
        },
        {
          "output_type": "stream",
          "name": "stderr",
          "text": [
            "<ipython-input-6-079f4bf87d5c>:27: DeprecationWarning: Starting with ImageIO v3 the behavior of this function will switch to that of iio.v3.imread. To keep the current behavior (and make this warning disappear) use `import imageio.v2 as imageio` or call `imageio.v2.imread` directly.\n",
            "  x = imageio.imread(file_path)\n",
            "<ipython-input-6-079f4bf87d5c>:27: DeprecationWarning: Starting with ImageIO v3 the behavior of this function will switch to that of iio.v3.imread. To keep the current behavior (and make this warning disappear) use `import imageio.v2 as imageio` or call `imageio.v2.imread` directly.\n",
            "  x = imageio.imread(file_path)\n"
          ]
        },
        {
          "output_type": "stream",
          "name": "stdout",
          "text": [
            "Validation: loss: 0.016, support accuracy: 1.000, query accuracy: 0.992\n",
            "Saved checkpoint.\n",
            "Iteration 4610: loss: 0.000, support accuracy: 0.997, query accuracy: 1.000\n",
            "Iteration 4620: loss: 0.004, support accuracy: 1.000, query accuracy: 0.997\n",
            "Iteration 4630: loss: 0.024, support accuracy: 0.997, query accuracy: 0.992\n",
            "Iteration 4640: loss: 0.002, support accuracy: 1.000, query accuracy: 1.000\n",
            "Iteration 4650: loss: 0.010, support accuracy: 1.000, query accuracy: 0.997\n",
            "Start Validation...\n"
          ]
        },
        {
          "output_type": "stream",
          "name": "stderr",
          "text": [
            "<ipython-input-6-079f4bf87d5c>:27: DeprecationWarning: Starting with ImageIO v3 the behavior of this function will switch to that of iio.v3.imread. To keep the current behavior (and make this warning disappear) use `import imageio.v2 as imageio` or call `imageio.v2.imread` directly.\n",
            "  x = imageio.imread(file_path)\n",
            "<ipython-input-6-079f4bf87d5c>:27: DeprecationWarning: Starting with ImageIO v3 the behavior of this function will switch to that of iio.v3.imread. To keep the current behavior (and make this warning disappear) use `import imageio.v2 as imageio` or call `imageio.v2.imread` directly.\n",
            "  x = imageio.imread(file_path)\n"
          ]
        },
        {
          "output_type": "stream",
          "name": "stdout",
          "text": [
            "Validation: loss: 0.013, support accuracy: 0.999, query accuracy: 0.996\n",
            "Iteration 4660: loss: 0.016, support accuracy: 0.997, query accuracy: 0.997\n",
            "Iteration 4670: loss: 0.003, support accuracy: 1.000, query accuracy: 0.997\n",
            "Iteration 4680: loss: 0.000, support accuracy: 1.000, query accuracy: 1.000\n",
            "Iteration 4690: loss: 0.018, support accuracy: 1.000, query accuracy: 0.992\n",
            "Iteration 4700: loss: 0.008, support accuracy: 1.000, query accuracy: 0.997\n",
            "Start Validation...\n"
          ]
        },
        {
          "output_type": "stream",
          "name": "stderr",
          "text": [
            "<ipython-input-6-079f4bf87d5c>:27: DeprecationWarning: Starting with ImageIO v3 the behavior of this function will switch to that of iio.v3.imread. To keep the current behavior (and make this warning disappear) use `import imageio.v2 as imageio` or call `imageio.v2.imread` directly.\n",
            "  x = imageio.imread(file_path)\n",
            "<ipython-input-6-079f4bf87d5c>:27: DeprecationWarning: Starting with ImageIO v3 the behavior of this function will switch to that of iio.v3.imread. To keep the current behavior (and make this warning disappear) use `import imageio.v2 as imageio` or call `imageio.v2.imread` directly.\n",
            "  x = imageio.imread(file_path)\n"
          ]
        },
        {
          "output_type": "stream",
          "name": "stdout",
          "text": [
            "Validation: loss: 0.010, support accuracy: 1.000, query accuracy: 0.997\n",
            "Saved checkpoint.\n",
            "Iteration 4710: loss: 0.008, support accuracy: 1.000, query accuracy: 0.995\n",
            "Iteration 4720: loss: 0.012, support accuracy: 1.000, query accuracy: 0.997\n",
            "Iteration 4730: loss: 0.007, support accuracy: 0.995, query accuracy: 0.997\n",
            "Iteration 4740: loss: 0.008, support accuracy: 1.000, query accuracy: 0.995\n",
            "Iteration 4750: loss: 0.019, support accuracy: 1.000, query accuracy: 0.995\n",
            "Start Validation...\n"
          ]
        },
        {
          "output_type": "stream",
          "name": "stderr",
          "text": [
            "<ipython-input-6-079f4bf87d5c>:27: DeprecationWarning: Starting with ImageIO v3 the behavior of this function will switch to that of iio.v3.imread. To keep the current behavior (and make this warning disappear) use `import imageio.v2 as imageio` or call `imageio.v2.imread` directly.\n",
            "  x = imageio.imread(file_path)\n",
            "<ipython-input-6-079f4bf87d5c>:27: DeprecationWarning: Starting with ImageIO v3 the behavior of this function will switch to that of iio.v3.imread. To keep the current behavior (and make this warning disappear) use `import imageio.v2 as imageio` or call `imageio.v2.imread` directly.\n",
            "  x = imageio.imread(file_path)\n"
          ]
        },
        {
          "output_type": "stream",
          "name": "stdout",
          "text": [
            "Validation: loss: 0.021, support accuracy: 0.999, query accuracy: 0.994\n",
            "Iteration 4760: loss: 0.000, support accuracy: 1.000, query accuracy: 1.000\n",
            "Iteration 4770: loss: 0.002, support accuracy: 1.000, query accuracy: 1.000\n",
            "Iteration 4780: loss: 0.006, support accuracy: 1.000, query accuracy: 0.997\n",
            "Iteration 4790: loss: 0.000, support accuracy: 1.000, query accuracy: 1.000\n",
            "Iteration 4800: loss: 0.000, support accuracy: 1.000, query accuracy: 1.000\n",
            "Start Validation...\n"
          ]
        },
        {
          "output_type": "stream",
          "name": "stderr",
          "text": [
            "<ipython-input-6-079f4bf87d5c>:27: DeprecationWarning: Starting with ImageIO v3 the behavior of this function will switch to that of iio.v3.imread. To keep the current behavior (and make this warning disappear) use `import imageio.v2 as imageio` or call `imageio.v2.imread` directly.\n",
            "  x = imageio.imread(file_path)\n",
            "<ipython-input-6-079f4bf87d5c>:27: DeprecationWarning: Starting with ImageIO v3 the behavior of this function will switch to that of iio.v3.imread. To keep the current behavior (and make this warning disappear) use `import imageio.v2 as imageio` or call `imageio.v2.imread` directly.\n",
            "  x = imageio.imread(file_path)\n"
          ]
        },
        {
          "output_type": "stream",
          "name": "stdout",
          "text": [
            "Validation: loss: 0.016, support accuracy: 0.999, query accuracy: 0.995\n",
            "Saved checkpoint.\n",
            "Iteration 4810: loss: 0.009, support accuracy: 1.000, query accuracy: 0.997\n",
            "Iteration 4820: loss: 0.024, support accuracy: 1.000, query accuracy: 0.995\n",
            "Iteration 4830: loss: 0.002, support accuracy: 1.000, query accuracy: 1.000\n",
            "Iteration 4840: loss: 0.004, support accuracy: 1.000, query accuracy: 1.000\n",
            "Iteration 4850: loss: 0.010, support accuracy: 1.000, query accuracy: 0.995\n",
            "Start Validation...\n"
          ]
        },
        {
          "output_type": "stream",
          "name": "stderr",
          "text": [
            "<ipython-input-6-079f4bf87d5c>:27: DeprecationWarning: Starting with ImageIO v3 the behavior of this function will switch to that of iio.v3.imread. To keep the current behavior (and make this warning disappear) use `import imageio.v2 as imageio` or call `imageio.v2.imread` directly.\n",
            "  x = imageio.imread(file_path)\n",
            "<ipython-input-6-079f4bf87d5c>:27: DeprecationWarning: Starting with ImageIO v3 the behavior of this function will switch to that of iio.v3.imread. To keep the current behavior (and make this warning disappear) use `import imageio.v2 as imageio` or call `imageio.v2.imread` directly.\n",
            "  x = imageio.imread(file_path)\n"
          ]
        },
        {
          "output_type": "stream",
          "name": "stdout",
          "text": [
            "Validation: loss: 0.017, support accuracy: 0.999, query accuracy: 0.994\n",
            "Iteration 4860: loss: 0.025, support accuracy: 1.000, query accuracy: 0.997\n",
            "Iteration 4870: loss: 0.005, support accuracy: 0.997, query accuracy: 0.997\n",
            "Iteration 4880: loss: 0.009, support accuracy: 1.000, query accuracy: 0.995\n",
            "Iteration 4890: loss: 0.001, support accuracy: 1.000, query accuracy: 1.000\n",
            "Iteration 4900: loss: 0.005, support accuracy: 1.000, query accuracy: 0.997\n",
            "Start Validation...\n"
          ]
        },
        {
          "output_type": "stream",
          "name": "stderr",
          "text": [
            "<ipython-input-6-079f4bf87d5c>:27: DeprecationWarning: Starting with ImageIO v3 the behavior of this function will switch to that of iio.v3.imread. To keep the current behavior (and make this warning disappear) use `import imageio.v2 as imageio` or call `imageio.v2.imread` directly.\n",
            "  x = imageio.imread(file_path)\n",
            "<ipython-input-6-079f4bf87d5c>:27: DeprecationWarning: Starting with ImageIO v3 the behavior of this function will switch to that of iio.v3.imread. To keep the current behavior (and make this warning disappear) use `import imageio.v2 as imageio` or call `imageio.v2.imread` directly.\n",
            "  x = imageio.imread(file_path)\n"
          ]
        },
        {
          "output_type": "stream",
          "name": "stdout",
          "text": [
            "Validation: loss: 0.011, support accuracy: 0.999, query accuracy: 0.995\n",
            "Saved checkpoint.\n",
            "Iteration 4910: loss: 0.007, support accuracy: 1.000, query accuracy: 0.997\n",
            "Iteration 4920: loss: 0.004, support accuracy: 1.000, query accuracy: 0.997\n",
            "Iteration 4930: loss: 0.004, support accuracy: 1.000, query accuracy: 1.000\n",
            "Iteration 4940: loss: 0.007, support accuracy: 1.000, query accuracy: 0.997\n",
            "Iteration 4950: loss: 0.001, support accuracy: 1.000, query accuracy: 1.000\n",
            "Start Validation...\n"
          ]
        },
        {
          "output_type": "stream",
          "name": "stderr",
          "text": [
            "<ipython-input-6-079f4bf87d5c>:27: DeprecationWarning: Starting with ImageIO v3 the behavior of this function will switch to that of iio.v3.imread. To keep the current behavior (and make this warning disappear) use `import imageio.v2 as imageio` or call `imageio.v2.imread` directly.\n",
            "  x = imageio.imread(file_path)\n",
            "<ipython-input-6-079f4bf87d5c>:27: DeprecationWarning: Starting with ImageIO v3 the behavior of this function will switch to that of iio.v3.imread. To keep the current behavior (and make this warning disappear) use `import imageio.v2 as imageio` or call `imageio.v2.imread` directly.\n",
            "  x = imageio.imread(file_path)\n"
          ]
        },
        {
          "output_type": "stream",
          "name": "stdout",
          "text": [
            "Validation: loss: 0.021, support accuracy: 1.000, query accuracy: 0.995\n",
            "Iteration 4960: loss: 0.008, support accuracy: 1.000, query accuracy: 0.997\n",
            "Iteration 4970: loss: 0.009, support accuracy: 1.000, query accuracy: 0.995\n",
            "Iteration 4980: loss: 0.007, support accuracy: 1.000, query accuracy: 0.997\n",
            "Iteration 4990: loss: 0.005, support accuracy: 1.000, query accuracy: 1.000\n"
          ]
        }
      ]
    },
    {
      "cell_type": "code",
      "source": [
        "%load_ext tensorboard"
      ],
      "metadata": {
        "id": "_Z0klIkqzJPW",
        "colab": {
          "base_uri": "https://localhost:8080/"
        },
        "outputId": "438ba9ec-183b-4003-b18e-e7640994b8ce"
      },
      "execution_count": 30,
      "outputs": [
        {
          "output_type": "stream",
          "name": "stdout",
          "text": [
            "The tensorboard extension is already loaded. To reload it, use:\n",
            "  %reload_ext tensorboard\n"
          ]
        }
      ]
    },
    {
      "cell_type": "code",
      "source": [
        "%tensorboard --logdir=/content/logs/protonet/omniglot.way_5.support_5.query_5.lr_0.001.batch_size_16 --port=4005"
      ],
      "metadata": {
        "id": "Ndyo3S0AkwgF",
        "colab": {
          "base_uri": "https://localhost:8080/",
          "height": 821
        },
        "outputId": "e50909cf-f713-4dbd-9e09-6819c6a52daa"
      },
      "execution_count": 33,
      "outputs": [
        {
          "output_type": "display_data",
          "data": {
            "text/plain": [
              "<IPython.core.display.Javascript object>"
            ],
            "application/javascript": [
              "\n",
              "        (async () => {\n",
              "            const url = new URL(await google.colab.kernel.proxyPort(4005, {'cache': true}));\n",
              "            url.searchParams.set('tensorboardColab', 'true');\n",
              "            const iframe = document.createElement('iframe');\n",
              "            iframe.src = url;\n",
              "            iframe.setAttribute('width', '100%');\n",
              "            iframe.setAttribute('height', '800');\n",
              "            iframe.setAttribute('frameborder', 0);\n",
              "            document.body.appendChild(iframe);\n",
              "        })();\n",
              "    "
            ]
          },
          "metadata": {}
        }
      ]
    },
    {
      "cell_type": "code",
      "source": [],
      "metadata": {
        "id": "7GNVxepfkwO4"
      },
      "execution_count": null,
      "outputs": []
    },
    {
      "cell_type": "code",
      "source": [],
      "metadata": {
        "id": "V1zG6mN7kwKc"
      },
      "execution_count": null,
      "outputs": []
    },
    {
      "cell_type": "code",
      "source": [
        "!zip -r prototypical_network_logs.zip logs/"
      ],
      "metadata": {
        "id": "8MnoeTs4kwG5",
        "colab": {
          "base_uri": "https://localhost:8080/"
        },
        "outputId": "2e51d784-e48a-4185-c2d0-be1ba22106e5"
      },
      "execution_count": 21,
      "outputs": [
        {
          "output_type": "stream",
          "name": "stdout",
          "text": [
            "  adding: logs/ (stored 0%)\n",
            "  adding: logs/protonet/ (stored 0%)\n",
            "  adding: logs/protonet/omniglot.way_5.support_5.query_5.lr_0.001.batch_size_16/ (stored 0%)\n",
            "  adding: logs/protonet/omniglot.way_5.support_5.query_5.lr_0.001.batch_size_16/state3300.pt (deflated 8%)\n",
            "  adding: logs/protonet/omniglot.way_5.support_5.query_5.lr_0.001.batch_size_16/state2600.pt (deflated 8%)\n",
            "  adding: logs/protonet/omniglot.way_5.support_5.query_5.lr_0.001.batch_size_16/state2700.pt (deflated 8%)\n",
            "  adding: logs/protonet/omniglot.way_5.support_5.query_5.lr_0.001.batch_size_16/state500.pt (deflated 8%)\n",
            "  adding: logs/protonet/omniglot.way_5.support_5.query_5.lr_0.001.batch_size_16/state1900.pt (deflated 8%)\n",
            "  adding: logs/protonet/omniglot.way_5.support_5.query_5.lr_0.001.batch_size_16/state2300.pt (deflated 8%)\n",
            "  adding: logs/protonet/omniglot.way_5.support_5.query_5.lr_0.001.batch_size_16/events.out.tfevents.1699966391.9f080bafb459.1333.1 (deflated 74%)\n",
            "  adding: logs/protonet/omniglot.way_5.support_5.query_5.lr_0.001.batch_size_16/state3400.pt (deflated 8%)\n",
            "  adding: logs/protonet/omniglot.way_5.support_5.query_5.lr_0.001.batch_size_16/state1100.pt (deflated 8%)\n",
            "  adding: logs/protonet/omniglot.way_5.support_5.query_5.lr_0.001.batch_size_16/state900.pt (deflated 8%)\n",
            "  adding: logs/protonet/omniglot.way_5.support_5.query_5.lr_0.001.batch_size_16/state4500.pt (deflated 8%)\n",
            "  adding: logs/protonet/omniglot.way_5.support_5.query_5.lr_0.001.batch_size_16/state300.pt (deflated 8%)\n",
            "  adding: logs/protonet/omniglot.way_5.support_5.query_5.lr_0.001.batch_size_16/state4800.pt (deflated 8%)\n",
            "  adding: logs/protonet/omniglot.way_5.support_5.query_5.lr_0.001.batch_size_16/state200.pt (deflated 8%)\n",
            "  adding: logs/protonet/omniglot.way_5.support_5.query_5.lr_0.001.batch_size_16/state4300.pt (deflated 8%)\n",
            "  adding: logs/protonet/omniglot.way_5.support_5.query_5.lr_0.001.batch_size_16/state3600.pt (deflated 8%)\n",
            "  adding: logs/protonet/omniglot.way_5.support_5.query_5.lr_0.001.batch_size_16/state4700.pt (deflated 8%)\n",
            "  adding: logs/protonet/omniglot.way_5.support_5.query_5.lr_0.001.batch_size_16/state1800.pt (deflated 8%)\n",
            "  adding: logs/protonet/omniglot.way_5.support_5.query_5.lr_0.001.batch_size_16/state700.pt (deflated 8%)\n",
            "  adding: logs/protonet/omniglot.way_5.support_5.query_5.lr_0.001.batch_size_16/state2400.pt (deflated 8%)\n",
            "  adding: logs/protonet/omniglot.way_5.support_5.query_5.lr_0.001.batch_size_16/state4200.pt (deflated 8%)\n",
            "  adding: logs/protonet/omniglot.way_5.support_5.query_5.lr_0.001.batch_size_16/state4100.pt (deflated 8%)\n",
            "  adding: logs/protonet/omniglot.way_5.support_5.query_5.lr_0.001.batch_size_16/state3800.pt (deflated 8%)\n",
            "  adding: logs/protonet/omniglot.way_5.support_5.query_5.lr_0.001.batch_size_16/state2800.pt (deflated 8%)\n",
            "  adding: logs/protonet/omniglot.way_5.support_5.query_5.lr_0.001.batch_size_16/state1700.pt (deflated 8%)\n",
            "  adding: logs/protonet/omniglot.way_5.support_5.query_5.lr_0.001.batch_size_16/state1500.pt (deflated 8%)\n",
            "  adding: logs/protonet/omniglot.way_5.support_5.query_5.lr_0.001.batch_size_16/state3500.pt (deflated 8%)\n",
            "  adding: logs/protonet/omniglot.way_5.support_5.query_5.lr_0.001.batch_size_16/state2000.pt (deflated 8%)\n",
            "  adding: logs/protonet/omniglot.way_5.support_5.query_5.lr_0.001.batch_size_16/state4000.pt (deflated 8%)\n",
            "  adding: logs/protonet/omniglot.way_5.support_5.query_5.lr_0.001.batch_size_16/state0.pt (deflated 8%)\n",
            "  adding: logs/protonet/omniglot.way_5.support_5.query_5.lr_0.001.batch_size_16/state3200.pt (deflated 8%)\n",
            "  adding: logs/protonet/omniglot.way_5.support_5.query_5.lr_0.001.batch_size_16/state4400.pt (deflated 8%)\n",
            "  adding: logs/protonet/omniglot.way_5.support_5.query_5.lr_0.001.batch_size_16/state1200.pt (deflated 8%)\n",
            "  adding: logs/protonet/omniglot.way_5.support_5.query_5.lr_0.001.batch_size_16/state1600.pt (deflated 8%)\n",
            "  adding: logs/protonet/omniglot.way_5.support_5.query_5.lr_0.001.batch_size_16/state100.pt (deflated 8%)\n",
            "  adding: logs/protonet/omniglot.way_5.support_5.query_5.lr_0.001.batch_size_16/state4900.pt (deflated 8%)\n",
            "  adding: logs/protonet/omniglot.way_5.support_5.query_5.lr_0.001.batch_size_16/state4600.pt (deflated 8%)\n",
            "  adding: logs/protonet/omniglot.way_5.support_5.query_5.lr_0.001.batch_size_16/state3100.pt (deflated 8%)\n",
            "  adding: logs/protonet/omniglot.way_5.support_5.query_5.lr_0.001.batch_size_16/state2900.pt (deflated 8%)\n",
            "  adding: logs/protonet/omniglot.way_5.support_5.query_5.lr_0.001.batch_size_16/state2500.pt (deflated 8%)\n",
            "  adding: logs/protonet/omniglot.way_5.support_5.query_5.lr_0.001.batch_size_16/state2100.pt (deflated 8%)\n",
            "  adding: logs/protonet/omniglot.way_5.support_5.query_5.lr_0.001.batch_size_16/events.out.tfevents.1699966315.9f080bafb459.1333.0 (deflated 9%)\n",
            "  adding: logs/protonet/omniglot.way_5.support_5.query_5.lr_0.001.batch_size_16/state3900.pt (deflated 8%)\n",
            "  adding: logs/protonet/omniglot.way_5.support_5.query_5.lr_0.001.batch_size_16/state3700.pt (deflated 8%)\n",
            "  adding: logs/protonet/omniglot.way_5.support_5.query_5.lr_0.001.batch_size_16/state400.pt (deflated 8%)\n",
            "  adding: logs/protonet/omniglot.way_5.support_5.query_5.lr_0.001.batch_size_16/state3000.pt (deflated 8%)\n",
            "  adding: logs/protonet/omniglot.way_5.support_5.query_5.lr_0.001.batch_size_16/state2200.pt (deflated 8%)\n",
            "  adding: logs/protonet/omniglot.way_5.support_5.query_5.lr_0.001.batch_size_16/state1300.pt (deflated 8%)\n",
            "  adding: logs/protonet/omniglot.way_5.support_5.query_5.lr_0.001.batch_size_16/state600.pt (deflated 8%)\n",
            "  adding: logs/protonet/omniglot.way_5.support_5.query_5.lr_0.001.batch_size_16/state1000.pt (deflated 8%)\n",
            "  adding: logs/protonet/omniglot.way_5.support_5.query_5.lr_0.001.batch_size_16/state1400.pt (deflated 8%)\n",
            "  adding: logs/protonet/omniglot.way_5.support_5.query_5.lr_0.001.batch_size_16/state800.pt (deflated 8%)\n"
          ]
        }
      ]
    },
    {
      "cell_type": "code",
      "source": [],
      "metadata": {
        "id": "909nTknzkwBl"
      },
      "execution_count": null,
      "outputs": []
    },
    {
      "cell_type": "code",
      "source": [],
      "metadata": {
        "id": "J-Z8zjIwkv3o"
      },
      "execution_count": null,
      "outputs": []
    }
  ]
}